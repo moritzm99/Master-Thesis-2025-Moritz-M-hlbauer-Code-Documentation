{
 "cells": [
  {
   "cell_type": "markdown",
   "id": "11f2edf4-d5a6-4d84-888a-0c07b7ffb6e5",
   "metadata": {},
   "source": [
    "# Notebook to extract spectral indices and LST from Landsat 8 satellite through Python API from Google Earth Engine"
   ]
  },
  {
   "cell_type": "markdown",
   "id": "d39930e4-ad45-4b68-80f5-b0d29eae88f7",
   "metadata": {},
   "source": [
    "**Notebook requirements**"
   ]
  },
  {
   "cell_type": "code",
   "execution_count": 122,
   "id": "b507e1a6-3b5f-40ac-8af6-65e2baea0aa1",
   "metadata": {},
   "outputs": [
    {
     "data": {
      "text/html": [
       "\n",
       "            <style>\n",
       "                .geemap-dark {\n",
       "                    --jp-widgets-color: white;\n",
       "                    --jp-widgets-label-color: white;\n",
       "                    --jp-ui-font-color1: white;\n",
       "                    --jp-layout-color2: #454545;\n",
       "                    background-color: #383838;\n",
       "                }\n",
       "\n",
       "                .geemap-dark .jupyter-button {\n",
       "                    --jp-layout-color3: #383838;\n",
       "                }\n",
       "\n",
       "                .geemap-colab {\n",
       "                    background-color: var(--colab-primary-surface-color, white);\n",
       "                }\n",
       "\n",
       "                .geemap-colab .jupyter-button {\n",
       "                    --jp-layout-color3: var(--colab-primary-surface-color, white);\n",
       "                }\n",
       "            </style>\n",
       "            "
      ],
      "text/plain": [
       "<IPython.core.display.HTML object>"
      ]
     },
     "metadata": {},
     "output_type": "display_data"
    }
   ],
   "source": [
    "# importing libraries\n",
    "import ee\n",
    "import geemap\n",
    "import geopandas as gpd\n",
    "import pathlib\n",
    "import pandas as pd\n",
    "from datetime import datetime\n",
    "import matplotlib.pyplot as plt\n",
    "from matplotlib.font_manager import FontProperties\n",
    "\n",
    "from IPython.display import IFrame # variable for visualization\n",
    "\n",
    "# python script for heatwave detection\n",
    "from heatwave_detection import get_heatwave"
   ]
  },
  {
   "cell_type": "code",
   "execution_count": 2,
   "id": "93754be0-7aab-4ddc-9975-235078f8a5ce",
   "metadata": {},
   "outputs": [
    {
     "data": {
      "text/html": [
       "\n",
       "            <style>\n",
       "                .geemap-dark {\n",
       "                    --jp-widgets-color: white;\n",
       "                    --jp-widgets-label-color: white;\n",
       "                    --jp-ui-font-color1: white;\n",
       "                    --jp-layout-color2: #454545;\n",
       "                    background-color: #383838;\n",
       "                }\n",
       "\n",
       "                .geemap-dark .jupyter-button {\n",
       "                    --jp-layout-color3: #383838;\n",
       "                }\n",
       "\n",
       "                .geemap-colab {\n",
       "                    background-color: var(--colab-primary-surface-color, white);\n",
       "                }\n",
       "\n",
       "                .geemap-colab .jupyter-button {\n",
       "                    --jp-layout-color3: var(--colab-primary-surface-color, white);\n",
       "                }\n",
       "            </style>\n",
       "            "
      ],
      "text/plain": [
       "<IPython.core.display.HTML object>"
      ]
     },
     "metadata": {},
     "output_type": "display_data"
    }
   ],
   "source": [
    "# establishing relative paths to directories\n",
    "NOTEBOOK_DIRECTORY = pathlib.Path().resolve()\n",
    "DATA_DIRECTORY = NOTEBOOK_DIRECTORY / \"data\"\n",
    "OUTPUT_DIRECTORY = NOTEBOOK_DIRECTORY / \"output\" / \"climate_data\""
   ]
  },
  {
   "cell_type": "code",
   "execution_count": 3,
   "id": "baa50027-97bb-43ad-b720-8baa10cb80c3",
   "metadata": {},
   "outputs": [
    {
     "data": {
      "text/html": [
       "\n",
       "            <style>\n",
       "                .geemap-dark {\n",
       "                    --jp-widgets-color: white;\n",
       "                    --jp-widgets-label-color: white;\n",
       "                    --jp-ui-font-color1: white;\n",
       "                    --jp-layout-color2: #454545;\n",
       "                    background-color: #383838;\n",
       "                }\n",
       "\n",
       "                .geemap-dark .jupyter-button {\n",
       "                    --jp-layout-color3: #383838;\n",
       "                }\n",
       "\n",
       "                .geemap-colab {\n",
       "                    background-color: var(--colab-primary-surface-color, white);\n",
       "                }\n",
       "\n",
       "                .geemap-colab .jupyter-button {\n",
       "                    --jp-layout-color3: var(--colab-primary-surface-color, white);\n",
       "                }\n",
       "            </style>\n",
       "            "
      ],
      "text/plain": [
       "<IPython.core.display.HTML object>"
      ]
     },
     "metadata": {},
     "output_type": "display_data"
    },
    {
     "data": {
      "text/html": [
       "<p>To authorize access needed by Earth Engine, open the following\n",
       "        URL in a web browser and follow the instructions:</p>\n",
       "        <p><a href=https://code.earthengine.google.com/client-auth?scopes=https%3A//www.googleapis.com/auth/earthengine%20https%3A//www.googleapis.com/auth/devstorage.full_control&request_id=geSc_NF_7mmo483RXL2ZRjRJd1H7Vj3kFdrBMTqbw3U&tc=lqKcWMx-JRWX8mrcf8gDuIr5wdmBwbY2ABn8koDrwS8&cc=NzOgvK7IapWN3avqNGvXJOOu7G85gD_qrrnyN81nmYs>https://code.earthengine.google.com/client-auth?scopes=https%3A//www.googleapis.com/auth/earthengine%20https%3A//www.googleapis.com/auth/devstorage.full_control&request_id=geSc_NF_7mmo483RXL2ZRjRJd1H7Vj3kFdrBMTqbw3U&tc=lqKcWMx-JRWX8mrcf8gDuIr5wdmBwbY2ABn8koDrwS8&cc=NzOgvK7IapWN3avqNGvXJOOu7G85gD_qrrnyN81nmYs</a></p>\n",
       "        <p>The authorization workflow will generate a code, which you should paste in the box below.</p>\n",
       "        "
      ],
      "text/plain": [
       "<IPython.core.display.HTML object>"
      ]
     },
     "metadata": {},
     "output_type": "display_data"
    },
    {
     "name": "stdin",
     "output_type": "stream",
     "text": [
      "Enter verification code:  4/1AUJR-x6F_S0uekC2_tbC7zWq4TPkVVAEmTFrcn2PBAqn3_EQkpNZisfEB0U\n"
     ]
    },
    {
     "name": "stdout",
     "output_type": "stream",
     "text": [
      "\n",
      "Successfully saved authorization token.\n"
     ]
    }
   ],
   "source": [
    "# initializing Google Earth Engine\n",
    "try: \n",
    "    ee.Initialize()\n",
    "except Exception as e:\n",
    "\n",
    "    ee.Authenticate()\n",
    "    ee.Initialize()"
   ]
  },
  {
   "cell_type": "markdown",
   "id": "06d23b7f-58ec-435b-9637-d4f7aef47827",
   "metadata": {
    "jp-MarkdownHeadingCollapsed": true
   },
   "source": [
    "## Data Import"
   ]
  },
  {
   "cell_type": "markdown",
   "id": "e5ab4b3e-f267-49d3-b0a7-ce26ad2a395c",
   "metadata": {},
   "source": [
    "**Txt and Vector**"
   ]
  },
  {
   "cell_type": "code",
   "execution_count": 79,
   "id": "6631f820-f31e-476b-9569-d7db41573a77",
   "metadata": {},
   "outputs": [
    {
     "data": {
      "text/html": [
       "\n",
       "            <style>\n",
       "                .geemap-dark {\n",
       "                    --jp-widgets-color: white;\n",
       "                    --jp-widgets-label-color: white;\n",
       "                    --jp-ui-font-color1: white;\n",
       "                    --jp-layout-color2: #454545;\n",
       "                    background-color: #383838;\n",
       "                }\n",
       "\n",
       "                .geemap-dark .jupyter-button {\n",
       "                    --jp-layout-color3: #383838;\n",
       "                }\n",
       "\n",
       "                .geemap-colab {\n",
       "                    background-color: var(--colab-primary-surface-color, white);\n",
       "                }\n",
       "\n",
       "                .geemap-colab .jupyter-button {\n",
       "                    --jp-layout-color3: var(--colab-primary-surface-color, white);\n",
       "                }\n",
       "            </style>\n",
       "            "
      ],
      "text/plain": [
       "<IPython.core.display.HTML object>"
      ]
     },
     "metadata": {},
     "output_type": "display_data"
    }
   ],
   "source": [
    "# importing heatwave data\n",
    "air_temp_13_24 = pd.read_csv(\n",
    "    # defining filepath\n",
    "    DATA_DIRECTORY / \"air_temp\" / \"air_temp_2024.txt\",\n",
    "    # parsing datetime objects\n",
    "    parse_dates=[\"Date\"],\n",
    ").set_index(\"Date\") # setting DataFrame index on parsed datetime column"
   ]
  },
  {
   "cell_type": "code",
   "execution_count": 5,
   "id": "0c0af3ee-c6f0-4f10-8ee7-db441a0a7ad5",
   "metadata": {},
   "outputs": [
    {
     "data": {
      "text/html": [
       "\n",
       "            <style>\n",
       "                .geemap-dark {\n",
       "                    --jp-widgets-color: white;\n",
       "                    --jp-widgets-label-color: white;\n",
       "                    --jp-ui-font-color1: white;\n",
       "                    --jp-layout-color2: #454545;\n",
       "                    background-color: #383838;\n",
       "                }\n",
       "\n",
       "                .geemap-dark .jupyter-button {\n",
       "                    --jp-layout-color3: #383838;\n",
       "                }\n",
       "\n",
       "                .geemap-colab {\n",
       "                    background-color: var(--colab-primary-surface-color, white);\n",
       "                }\n",
       "\n",
       "                .geemap-colab .jupyter-button {\n",
       "                    --jp-layout-color3: var(--colab-primary-surface-color, white);\n",
       "                }\n",
       "            </style>\n",
       "            "
      ],
      "text/plain": [
       "<IPython.core.display.HTML object>"
      ]
     },
     "metadata": {},
     "output_type": "display_data"
    }
   ],
   "source": [
    "tallinn = gpd.read_file(DATA_DIRECTORY / \"tallinn_outline\" / \"tallinn_dissolved.gpkg\", layer=1)\n",
    "tallinn = geemap.gdf_to_ee(tallinn)"
   ]
  },
  {
   "cell_type": "code",
   "execution_count": 6,
   "id": "0132eb95-9b79-4cc4-894c-5c9203f05e62",
   "metadata": {},
   "outputs": [
    {
     "data": {
      "text/html": [
       "\n",
       "            <style>\n",
       "                .geemap-dark {\n",
       "                    --jp-widgets-color: white;\n",
       "                    --jp-widgets-label-color: white;\n",
       "                    --jp-ui-font-color1: white;\n",
       "                    --jp-layout-color2: #454545;\n",
       "                    background-color: #383838;\n",
       "                }\n",
       "\n",
       "                .geemap-dark .jupyter-button {\n",
       "                    --jp-layout-color3: #383838;\n",
       "                }\n",
       "\n",
       "                .geemap-colab {\n",
       "                    background-color: var(--colab-primary-surface-color, white);\n",
       "                }\n",
       "\n",
       "                .geemap-colab .jupyter-button {\n",
       "                    --jp-layout-color3: var(--colab-primary-surface-color, white);\n",
       "                }\n",
       "            </style>\n",
       "            "
      ],
      "text/plain": [
       "<IPython.core.display.HTML object>"
      ]
     },
     "metadata": {},
     "output_type": "display_data"
    }
   ],
   "source": [
    "# export extent to keep the export as small as possible but cover the LCZ map\n",
    "extent = gpd.read_file(DATA_DIRECTORY / \"si_extent_2014.gpkg\")\n",
    "extent = geemap.gdf_to_ee(extent)"
   ]
  },
  {
   "cell_type": "markdown",
   "id": "3c625b5a-1d9b-4ae2-95f3-7f0065fefc70",
   "metadata": {},
   "source": [
    "**Satellite Images**"
   ]
  },
  {
   "cell_type": "code",
   "execution_count": 4,
   "id": "97909828-71fb-4530-b581-f755f98bdc96",
   "metadata": {},
   "outputs": [
    {
     "data": {
      "text/html": [
       "\n",
       "            <style>\n",
       "                .geemap-dark {\n",
       "                    --jp-widgets-color: white;\n",
       "                    --jp-widgets-label-color: white;\n",
       "                    --jp-ui-font-color1: white;\n",
       "                    --jp-layout-color2: #454545;\n",
       "                    background-color: #383838;\n",
       "                }\n",
       "\n",
       "                .geemap-dark .jupyter-button {\n",
       "                    --jp-layout-color3: #383838;\n",
       "                }\n",
       "\n",
       "                .geemap-colab {\n",
       "                    background-color: var(--colab-primary-surface-color, white);\n",
       "                }\n",
       "\n",
       "                .geemap-colab .jupyter-button {\n",
       "                    --jp-layout-color3: var(--colab-primary-surface-color, white);\n",
       "                }\n",
       "            </style>\n",
       "            "
      ],
      "text/plain": [
       "<IPython.core.display.HTML object>"
      ]
     },
     "metadata": {},
     "output_type": "display_data"
    }
   ],
   "source": [
    "# Location of Tallinn\n",
    "tallinn_center = ee.Geometry.Point(24.751965, 59.430752)"
   ]
  },
  {
   "cell_type": "code",
   "execution_count": 5,
   "id": "41e4e60f-2f4e-400c-9425-114200ebd7da",
   "metadata": {},
   "outputs": [
    {
     "data": {
      "text/html": [
       "\n",
       "            <style>\n",
       "                .geemap-dark {\n",
       "                    --jp-widgets-color: white;\n",
       "                    --jp-widgets-label-color: white;\n",
       "                    --jp-ui-font-color1: white;\n",
       "                    --jp-layout-color2: #454545;\n",
       "                    background-color: #383838;\n",
       "                }\n",
       "\n",
       "                .geemap-dark .jupyter-button {\n",
       "                    --jp-layout-color3: #383838;\n",
       "                }\n",
       "\n",
       "                .geemap-colab {\n",
       "                    background-color: var(--colab-primary-surface-color, white);\n",
       "                }\n",
       "\n",
       "                .geemap-colab .jupyter-button {\n",
       "                    --jp-layout-color3: var(--colab-primary-surface-color, white);\n",
       "                }\n",
       "            </style>\n",
       "            "
      ],
      "text/plain": [
       "<IPython.core.display.HTML object>"
      ]
     },
     "metadata": {},
     "output_type": "display_data"
    }
   ],
   "source": [
    "# Loading and filtering Landsat 8 (surface reflection) collection\n",
    "landsatCollection_SR = (ee.ImageCollection('LANDSAT/LC08/C02/T1_L2')\n",
    "                     # Satellite program: Landsat \n",
    "                     # LC08: 8th version\n",
    "                     # CO2: Collection 2\n",
    "                     # T1: Tier 1, the highest-quality data suitable for time-series analysis\n",
    "                     # L2: Level-2 Science Products, includes atmospherically corrected surface reflectance\n",
    "                       .filterBounds(tallinn_center) # spatial filter\n",
    "                    )"
   ]
  },
  {
   "cell_type": "markdown",
   "id": "2880988e-8a12-45e5-bf56-ce167f2eba36",
   "metadata": {
    "jp-MarkdownHeadingCollapsed": true
   },
   "source": [
    "## Helper Functions"
   ]
  },
  {
   "cell_type": "code",
   "execution_count": 9,
   "id": "49cbf548-8f4e-41ee-a881-af0bdf8ea12c",
   "metadata": {},
   "outputs": [
    {
     "data": {
      "text/html": [
       "\n",
       "            <style>\n",
       "                .geemap-dark {\n",
       "                    --jp-widgets-color: white;\n",
       "                    --jp-widgets-label-color: white;\n",
       "                    --jp-ui-font-color1: white;\n",
       "                    --jp-layout-color2: #454545;\n",
       "                    background-color: #383838;\n",
       "                }\n",
       "\n",
       "                .geemap-dark .jupyter-button {\n",
       "                    --jp-layout-color3: #383838;\n",
       "                }\n",
       "\n",
       "                .geemap-colab {\n",
       "                    background-color: var(--colab-primary-surface-color, white);\n",
       "                }\n",
       "\n",
       "                .geemap-colab .jupyter-button {\n",
       "                    --jp-layout-color3: var(--colab-primary-surface-color, white);\n",
       "                }\n",
       "            </style>\n",
       "            "
      ],
      "text/plain": [
       "<IPython.core.display.HTML object>"
      ]
     },
     "metadata": {},
     "output_type": "display_data"
    }
   ],
   "source": [
    "# Landsat 8 Level 2 (L2) images are classified as Analysis Ready Data (Atmospheric Correction: Converts Top-of-Atmosphere (TOA) reflectance to Surface Reflectance (SR),\n",
    "# Cloud Masking and Geometric Correction: Ensures accurate geographic alignment)\n",
    "# Nevertheless it provides data in Digital Numbers (DN). These DN values must be converted to physical reflectance or temperature units using scaling factors.\n",
    "\n",
    "# raster rescaling\n",
    "def apply_scale_factors(raster_image):\n",
    "    # Bands affected: all optical bands 'SR-B1' - 'SR-B7'\n",
    "    # Formula: Surface Reflectance[ranging from 0 to 1] = (DN * 0.0000275[=gain]) - 0.2[=additive correction]\n",
    "    optical_bands = raster_image.select('SR_B.').multiply(0.0000275).add(-0.2)\n",
    "    # Bands affected: 'ST_B10', 'ST_B11', Formula: Temperature (Celsius) = (DN * 0.00341802) + 149.0\n",
    "    thermal_bands = raster_image.select('ST_B.*').multiply(0.00341802).add(-124.15)\n",
    "    # adds the corrected value back to the image \n",
    "    return raster_image.addBands(optical_bands, None, True).addBands(thermal_bands, None, True)"
   ]
  },
  {
   "cell_type": "code",
   "execution_count": 10,
   "id": "b3408db0-103f-49bf-aef3-1685fde7b1c8",
   "metadata": {},
   "outputs": [
    {
     "data": {
      "text/html": [
       "\n",
       "            <style>\n",
       "                .geemap-dark {\n",
       "                    --jp-widgets-color: white;\n",
       "                    --jp-widgets-label-color: white;\n",
       "                    --jp-ui-font-color1: white;\n",
       "                    --jp-layout-color2: #454545;\n",
       "                    background-color: #383838;\n",
       "                }\n",
       "\n",
       "                .geemap-dark .jupyter-button {\n",
       "                    --jp-layout-color3: #383838;\n",
       "                }\n",
       "\n",
       "                .geemap-colab {\n",
       "                    background-color: var(--colab-primary-surface-color, white);\n",
       "                }\n",
       "\n",
       "                .geemap-colab .jupyter-button {\n",
       "                    --jp-layout-color3: var(--colab-primary-surface-color, white);\n",
       "                }\n",
       "            </style>\n",
       "            "
      ],
      "text/plain": [
       "<IPython.core.display.HTML object>"
      ]
     },
     "metadata": {},
     "output_type": "display_data"
    }
   ],
   "source": [
    "def create_maps_from_collections(collections_by_year, vis_params, boundary):\n",
    "    maps = {}\n",
    "\n",
    "    for year, collection_list in collections_by_year.items():\n",
    "        # Create a new interactive map\n",
    "        map_selection = geemap.Map(center=[59.430752, 24.751965], zoom=11)\n",
    "\n",
    "        # Iterate over image list and add to map\n",
    "        for i in range(collection_list.size().getInfo()):\n",
    "            image = ee.Image(collection_list.get(i))\n",
    "            label = f\"{image.get('DATE_ACQUIRED').getInfo()} / list position: {i}\"\n",
    "            map_selection.add_layer(image, vis_params, label)\n",
    "\n",
    "        # Add boundary overlay\n",
    "        map_selection.add_layer(boundary, {}, \"Boundary\")\n",
    "\n",
    "        # Store map\n",
    "        maps[year] = map_selection\n",
    "\n",
    "    return maps"
   ]
  },
  {
   "cell_type": "code",
   "execution_count": 11,
   "id": "f8bbf7c1-1670-445d-a8bb-c11f1c9c0114",
   "metadata": {},
   "outputs": [
    {
     "data": {
      "text/html": [
       "\n",
       "            <style>\n",
       "                .geemap-dark {\n",
       "                    --jp-widgets-color: white;\n",
       "                    --jp-widgets-label-color: white;\n",
       "                    --jp-ui-font-color1: white;\n",
       "                    --jp-layout-color2: #454545;\n",
       "                    background-color: #383838;\n",
       "                }\n",
       "\n",
       "                .geemap-dark .jupyter-button {\n",
       "                    --jp-layout-color3: #383838;\n",
       "                }\n",
       "\n",
       "                .geemap-colab {\n",
       "                    background-color: var(--colab-primary-surface-color, white);\n",
       "                }\n",
       "\n",
       "                .geemap-colab .jupyter-button {\n",
       "                    --jp-layout-color3: var(--colab-primary-surface-color, white);\n",
       "                }\n",
       "            </style>\n",
       "            "
      ],
      "text/plain": [
       "<IPython.core.display.HTML object>"
      ]
     },
     "metadata": {},
     "output_type": "display_data"
    }
   ],
   "source": [
    "# raster reprojecting\n",
    "def raster_reproject(raster_image):\n",
    "    \n",
    "    raster_reprojected = raster_image.reproject(\n",
    "        crs=\"EPSG:3301\",\n",
    "        scale=30 # resolution of Landsat 8 = 30 m\n",
    "    )\n",
    "    return raster_reprojected"
   ]
  },
  {
   "cell_type": "code",
   "execution_count": 12,
   "id": "12a3aec5-9cd6-493d-ae7c-bdaa0504ee96",
   "metadata": {},
   "outputs": [
    {
     "data": {
      "text/html": [
       "\n",
       "            <style>\n",
       "                .geemap-dark {\n",
       "                    --jp-widgets-color: white;\n",
       "                    --jp-widgets-label-color: white;\n",
       "                    --jp-ui-font-color1: white;\n",
       "                    --jp-layout-color2: #454545;\n",
       "                    background-color: #383838;\n",
       "                }\n",
       "\n",
       "                .geemap-dark .jupyter-button {\n",
       "                    --jp-layout-color3: #383838;\n",
       "                }\n",
       "\n",
       "                .geemap-colab {\n",
       "                    background-color: var(--colab-primary-surface-color, white);\n",
       "                }\n",
       "\n",
       "                .geemap-colab .jupyter-button {\n",
       "                    --jp-layout-color3: var(--colab-primary-surface-color, white);\n",
       "                }\n",
       "            </style>\n",
       "            "
      ],
      "text/plain": [
       "<IPython.core.display.HTML object>"
      ]
     },
     "metadata": {},
     "output_type": "display_data"
    }
   ],
   "source": [
    "# NDVI calculation (because of band-selection only working for Landsat 8)\n",
    "def calculate_NDVI(raster_image):\n",
    "    # building the normalized difference form NIR and RED band\n",
    "    ndvi = raster_image.normalizedDifference(['SR_B5', 'SR_B4']).rename(\"NDVI\")\n",
    "    return ndvi"
   ]
  },
  {
   "cell_type": "code",
   "execution_count": 13,
   "id": "878dd6b8-34ef-4cc7-a66a-33d45bfab56f",
   "metadata": {},
   "outputs": [
    {
     "data": {
      "text/html": [
       "\n",
       "            <style>\n",
       "                .geemap-dark {\n",
       "                    --jp-widgets-color: white;\n",
       "                    --jp-widgets-label-color: white;\n",
       "                    --jp-ui-font-color1: white;\n",
       "                    --jp-layout-color2: #454545;\n",
       "                    background-color: #383838;\n",
       "                }\n",
       "\n",
       "                .geemap-dark .jupyter-button {\n",
       "                    --jp-layout-color3: #383838;\n",
       "                }\n",
       "\n",
       "                .geemap-colab {\n",
       "                    background-color: var(--colab-primary-surface-color, white);\n",
       "                }\n",
       "\n",
       "                .geemap-colab .jupyter-button {\n",
       "                    --jp-layout-color3: var(--colab-primary-surface-color, white);\n",
       "                }\n",
       "            </style>\n",
       "            "
      ],
      "text/plain": [
       "<IPython.core.display.HTML object>"
      ]
     },
     "metadata": {},
     "output_type": "display_data"
    }
   ],
   "source": [
    "# NDWI calculation (because of band-selection only working for Landsat 8)\n",
    "def calculate_NDWI(raster_image):\n",
    "    # building the normalized difference form NIR and GREEN band\n",
    "    ndwi = raster_image.normalizedDifference(['SR_B3', 'SR_B5']).rename(\"NDWI\")\n",
    "    return ndwi"
   ]
  },
  {
   "cell_type": "code",
   "execution_count": 14,
   "id": "437006c2-b257-4f0e-b422-be3d6e0af71a",
   "metadata": {},
   "outputs": [
    {
     "data": {
      "text/html": [
       "\n",
       "            <style>\n",
       "                .geemap-dark {\n",
       "                    --jp-widgets-color: white;\n",
       "                    --jp-widgets-label-color: white;\n",
       "                    --jp-ui-font-color1: white;\n",
       "                    --jp-layout-color2: #454545;\n",
       "                    background-color: #383838;\n",
       "                }\n",
       "\n",
       "                .geemap-dark .jupyter-button {\n",
       "                    --jp-layout-color3: #383838;\n",
       "                }\n",
       "\n",
       "                .geemap-colab {\n",
       "                    background-color: var(--colab-primary-surface-color, white);\n",
       "                }\n",
       "\n",
       "                .geemap-colab .jupyter-button {\n",
       "                    --jp-layout-color3: var(--colab-primary-surface-color, white);\n",
       "                }\n",
       "            </style>\n",
       "            "
      ],
      "text/plain": [
       "<IPython.core.display.HTML object>"
      ]
     },
     "metadata": {},
     "output_type": "display_data"
    }
   ],
   "source": [
    "# NDBI calculation (because of band-selection only working for Landsat 8)\n",
    "def calculate_NDBI(raster_image):\n",
    "    # building the normalized difference form SWIR1 and NIR band\n",
    "    ndbi = raster_image.normalizedDifference(['SR_B6', 'SR_B5']).rename(\"NDBI\")\n",
    "    return ndbi"
   ]
  },
  {
   "cell_type": "raw",
   "id": "d9986257-4b6f-420e-8734-7cebb9112c8f",
   "metadata": {},
   "source": [
    "# Function to automate export\n",
    "def export_images_to_drive(image_list, description_list, folder, scale, region):\n",
    "    for image, description in zip(image_list, description_list):\n",
    "        task = ee.batch.Export.image.toDrive(**{\n",
    "            'image': image,\n",
    "            'description': description,\n",
    "            'folder': folder,\n",
    "            'scale': scale,\n",
    "            'region': region_geometry\n",
    "        })\n",
    "        task.start()\n",
    "        print(f\"Export started for {description}\")"
   ]
  },
  {
   "cell_type": "code",
   "execution_count": 53,
   "id": "9e5e4f21-b4c8-4e4e-95a5-58daca4d20a8",
   "metadata": {},
   "outputs": [
    {
     "data": {
      "text/html": [
       "\n",
       "            <style>\n",
       "                .geemap-dark {\n",
       "                    --jp-widgets-color: white;\n",
       "                    --jp-widgets-label-color: white;\n",
       "                    --jp-ui-font-color1: white;\n",
       "                    --jp-layout-color2: #454545;\n",
       "                    background-color: #383838;\n",
       "                }\n",
       "\n",
       "                .geemap-dark .jupyter-button {\n",
       "                    --jp-layout-color3: #383838;\n",
       "                }\n",
       "\n",
       "                .geemap-colab {\n",
       "                    background-color: var(--colab-primary-surface-color, white);\n",
       "                }\n",
       "\n",
       "                .geemap-colab .jupyter-button {\n",
       "                    --jp-layout-color3: var(--colab-primary-surface-color, white);\n",
       "                }\n",
       "            </style>\n",
       "            "
      ],
      "text/plain": [
       "<IPython.core.display.HTML object>"
      ]
     },
     "metadata": {},
     "output_type": "display_data"
    }
   ],
   "source": [
    "def conduct_processing(image):\n",
    "    \n",
    "    # applying re-scale function\n",
    "    image = apply_scale_factors(image)\n",
    "    print('Image rescaled')\n",
    "    # applying reproject function\n",
    "    image = raster_reproject(image)   \n",
    "    print(f\"Image reprojected: {image.projection().getInfo()}\")\n",
    "\n",
    "    # applying NDVI calculation function\n",
    "    NDVI = calculate_NDVI(image)\n",
    "    print('NDVI calculated')\n",
    "    # applying NDWI calculation function\n",
    "    NDWI = calculate_NDWI(image)\n",
    "    print('NDWI calculated')\n",
    "    # applying NDBI calculation function\n",
    "    NDBI = calculate_NDBI(image)\n",
    "    print('NDBI calculated')\n",
    "\n",
    "    # extracting land surface temperature\n",
    "    LST = image.select(['ST_B10']).rename(['LST'])\n",
    "    print('Land surface temperature extracted')\n",
    "    # extracting min, max and mean\n",
    "    max_dict = geemap.image_max_value(LST).getInfo()\n",
    "    min_dict = geemap.image_min_value(LST).getInfo()\n",
    "    mean_dict = geemap.image_mean_value(LST).getInfo()\n",
    "    print(f\"On the {image.get('DATE_ACQUIRED').getInfo()} the minimum land surface temperature was {round(min_dict['LST'],2)}, the maximum was {round(max_dict['LST'],2)} and the mean was {round(mean_dict['LST'],2)} °C\")\n",
    "\n",
    "    true_color = image.select(['SR_B4', 'SR_B3', 'SR_B2']).toFloat()\n",
    "    print('True color composite prepared')\n",
    "    \n",
    "    return true_color, NDVI, NDWI, NDBI, LST"
   ]
  },
  {
   "cell_type": "code",
   "execution_count": 54,
   "id": "39bcb833-7bf3-41b4-8ea5-d256e5fdf863",
   "metadata": {},
   "outputs": [
    {
     "data": {
      "text/html": [
       "\n",
       "            <style>\n",
       "                .geemap-dark {\n",
       "                    --jp-widgets-color: white;\n",
       "                    --jp-widgets-label-color: white;\n",
       "                    --jp-ui-font-color1: white;\n",
       "                    --jp-layout-color2: #454545;\n",
       "                    background-color: #383838;\n",
       "                }\n",
       "\n",
       "                .geemap-dark .jupyter-button {\n",
       "                    --jp-layout-color3: #383838;\n",
       "                }\n",
       "\n",
       "                .geemap-colab {\n",
       "                    background-color: var(--colab-primary-surface-color, white);\n",
       "                }\n",
       "\n",
       "                .geemap-colab .jupyter-button {\n",
       "                    --jp-layout-color3: var(--colab-primary-surface-color, white);\n",
       "                }\n",
       "            </style>\n",
       "            "
      ],
      "text/plain": [
       "<IPython.core.display.HTML object>"
      ]
     },
     "metadata": {},
     "output_type": "display_data"
    }
   ],
   "source": [
    "def extract_LST(image):\n",
    "    \n",
    "    # applying re-scale function\n",
    "    image = apply_scale_factors(image)\n",
    "    print('Image rescaled')\n",
    "    # applying reproject function\n",
    "    image = raster_reproject(image)   \n",
    "    print(f\"Image reprojected: {image.projection().getInfo()}\")\n",
    "\n",
    "    # extracting land surface temperature\n",
    "    LST = image.select(['ST_B10']).rename(['LST'])\n",
    "    print('Land surface temperature extracted')\n",
    "    # extracting min, max and mean\n",
    "    max_dict = geemap.image_max_value(LST).getInfo()\n",
    "    min_dict = geemap.image_min_value(LST).getInfo()\n",
    "    mean_dict = geemap.image_mean_value(LST).getInfo()\n",
    "    print(f\"On the {image.get('DATE_ACQUIRED').getInfo()} the minimum land surface temperature was {round(min_dict['LST'],2)}, the maximum was {round(max_dict['LST'],2)} and the mean was {round(mean_dict['LST'],2)} °C\")\n",
    "\n",
    "    true_color = image.select(['SR_B4', 'SR_B3', 'SR_B2']).toFloat()\n",
    "    print('True color composite prepared')\n",
    "    \n",
    "    return true_color, LST"
   ]
  },
  {
   "cell_type": "code",
   "execution_count": 17,
   "id": "dd942ea9-a116-4938-9479-1f572e09b4fe",
   "metadata": {},
   "outputs": [
    {
     "data": {
      "text/html": [
       "\n",
       "            <style>\n",
       "                .geemap-dark {\n",
       "                    --jp-widgets-color: white;\n",
       "                    --jp-widgets-label-color: white;\n",
       "                    --jp-ui-font-color1: white;\n",
       "                    --jp-layout-color2: #454545;\n",
       "                    background-color: #383838;\n",
       "                }\n",
       "\n",
       "                .geemap-dark .jupyter-button {\n",
       "                    --jp-layout-color3: #383838;\n",
       "                }\n",
       "\n",
       "                .geemap-colab {\n",
       "                    background-color: var(--colab-primary-surface-color, white);\n",
       "                }\n",
       "\n",
       "                .geemap-colab .jupyter-button {\n",
       "                    --jp-layout-color3: var(--colab-primary-surface-color, white);\n",
       "                }\n",
       "            </style>\n",
       "            "
      ],
      "text/plain": [
       "<IPython.core.display.HTML object>"
      ]
     },
     "metadata": {},
     "output_type": "display_data"
    }
   ],
   "source": [
    "# Function to automate export\n",
    "def export_images_to_drive(image_list, description_list, folder, scale, region_geometry):\n",
    "    for image, description in zip(image_list, description_list):\n",
    "        task = ee.batch.Export.image.toDrive(**{\n",
    "            'image': image,\n",
    "            'description': description,\n",
    "            'folder': folder,\n",
    "            'scale': scale,\n",
    "            'region': region_geometry\n",
    "        })\n",
    "        task.start()\n",
    "        print(f\"Export started for {description}\")"
   ]
  },
  {
   "cell_type": "markdown",
   "id": "cf3593f6-0e25-48e1-90a5-139d9dcfc447",
   "metadata": {},
   "source": [
    "## Heatwave detection"
   ]
  },
  {
   "cell_type": "code",
   "execution_count": 15,
   "id": "758c3188-f3ce-497e-8ac4-0e7c6970469e",
   "metadata": {},
   "outputs": [
    {
     "data": {
      "text/html": [
       "\n",
       "            <style>\n",
       "                .geemap-dark {\n",
       "                    --jp-widgets-color: white;\n",
       "                    --jp-widgets-label-color: white;\n",
       "                    --jp-ui-font-color1: white;\n",
       "                    --jp-layout-color2: #454545;\n",
       "                    background-color: #383838;\n",
       "                }\n",
       "\n",
       "                .geemap-dark .jupyter-button {\n",
       "                    --jp-layout-color3: #383838;\n",
       "                }\n",
       "\n",
       "                .geemap-colab {\n",
       "                    background-color: var(--colab-primary-surface-color, white);\n",
       "                }\n",
       "\n",
       "                .geemap-colab .jupyter-button {\n",
       "                    --jp-layout-color3: var(--colab-primary-surface-color, white);\n",
       "                }\n",
       "            </style>\n",
       "            "
      ],
      "text/plain": [
       "<IPython.core.display.HTML object>"
      ]
     },
     "metadata": {},
     "output_type": "display_data"
    }
   ],
   "source": [
    "# calling \n",
    "heatwave_periods = get_heatwave(air_temp_13_24)"
   ]
  },
  {
   "cell_type": "raw",
   "id": "13e6e80d-27ad-4505-b37d-f6bdbd108a8d",
   "metadata": {},
   "source": [
    "# exporting heatwave periods to csv for further analysis \n",
    "heatwave_periods[\"air_temp\"].to_csv(OUTPUT_DIRECTORY / \"heatwave_periods_13_24.csv\")"
   ]
  },
  {
   "cell_type": "code",
   "execution_count": 80,
   "id": "d8f0655a-d22d-4660-9f02-cd3b28488827",
   "metadata": {},
   "outputs": [
    {
     "data": {
      "text/html": [
       "\n",
       "            <style>\n",
       "                .geemap-dark {\n",
       "                    --jp-widgets-color: white;\n",
       "                    --jp-widgets-label-color: white;\n",
       "                    --jp-ui-font-color1: white;\n",
       "                    --jp-layout-color2: #454545;\n",
       "                    background-color: #383838;\n",
       "                }\n",
       "\n",
       "                .geemap-dark .jupyter-button {\n",
       "                    --jp-layout-color3: #383838;\n",
       "                }\n",
       "\n",
       "                .geemap-colab {\n",
       "                    background-color: var(--colab-primary-surface-color, white);\n",
       "                }\n",
       "\n",
       "                .geemap-colab .jupyter-button {\n",
       "                    --jp-layout-color3: var(--colab-primary-surface-color, white);\n",
       "                }\n",
       "            </style>\n",
       "            "
      ],
      "text/plain": [
       "<IPython.core.display.HTML object>"
      ]
     },
     "metadata": {},
     "output_type": "display_data"
    },
    {
     "data": {
      "text/html": [
       "<div>\n",
       "<style scoped>\n",
       "    .dataframe tbody tr th:only-of-type {\n",
       "        vertical-align: middle;\n",
       "    }\n",
       "\n",
       "    .dataframe tbody tr th {\n",
       "        vertical-align: top;\n",
       "    }\n",
       "\n",
       "    .dataframe thead th {\n",
       "        text-align: right;\n",
       "    }\n",
       "</style>\n",
       "<table border=\"1\" class=\"dataframe\">\n",
       "  <thead>\n",
       "    <tr style=\"text-align: right;\">\n",
       "      <th></th>\n",
       "      <th>air_temp</th>\n",
       "    </tr>\n",
       "    <tr>\n",
       "      <th>Date</th>\n",
       "      <th></th>\n",
       "    </tr>\n",
       "  </thead>\n",
       "  <tbody>\n",
       "    <tr>\n",
       "      <th>2013-01-01</th>\n",
       "      <td>3.8</td>\n",
       "    </tr>\n",
       "    <tr>\n",
       "      <th>2013-01-02</th>\n",
       "      <td>2.8</td>\n",
       "    </tr>\n",
       "    <tr>\n",
       "      <th>2013-01-03</th>\n",
       "      <td>1.5</td>\n",
       "    </tr>\n",
       "    <tr>\n",
       "      <th>2013-01-04</th>\n",
       "      <td>1.7</td>\n",
       "    </tr>\n",
       "    <tr>\n",
       "      <th>2013-01-05</th>\n",
       "      <td>1.5</td>\n",
       "    </tr>\n",
       "    <tr>\n",
       "      <th>...</th>\n",
       "      <td>...</td>\n",
       "    </tr>\n",
       "    <tr>\n",
       "      <th>2024-12-27</th>\n",
       "      <td>6.1</td>\n",
       "    </tr>\n",
       "    <tr>\n",
       "      <th>2024-12-28</th>\n",
       "      <td>4.4</td>\n",
       "    </tr>\n",
       "    <tr>\n",
       "      <th>2024-12-29</th>\n",
       "      <td>5.4</td>\n",
       "    </tr>\n",
       "    <tr>\n",
       "      <th>2024-12-30</th>\n",
       "      <td>6.3</td>\n",
       "    </tr>\n",
       "    <tr>\n",
       "      <th>2024-12-31</th>\n",
       "      <td>1.0</td>\n",
       "    </tr>\n",
       "  </tbody>\n",
       "</table>\n",
       "<p>4383 rows × 1 columns</p>\n",
       "</div>"
      ],
      "text/plain": [
       "            air_temp\n",
       "Date                \n",
       "2013-01-01       3.8\n",
       "2013-01-02       2.8\n",
       "2013-01-03       1.5\n",
       "2013-01-04       1.7\n",
       "2013-01-05       1.5\n",
       "...              ...\n",
       "2024-12-27       6.1\n",
       "2024-12-28       4.4\n",
       "2024-12-29       5.4\n",
       "2024-12-30       6.3\n",
       "2024-12-31       1.0\n",
       "\n",
       "[4383 rows x 1 columns]"
      ]
     },
     "execution_count": 80,
     "metadata": {},
     "output_type": "execute_result"
    }
   ],
   "source": [
    "air_temp_13_24"
   ]
  },
  {
   "cell_type": "code",
   "execution_count": 89,
   "id": "651a5a0a-7da3-45f5-89f4-3cb3b64db1e4",
   "metadata": {},
   "outputs": [
    {
     "data": {
      "text/html": [
       "\n",
       "            <style>\n",
       "                .geemap-dark {\n",
       "                    --jp-widgets-color: white;\n",
       "                    --jp-widgets-label-color: white;\n",
       "                    --jp-ui-font-color1: white;\n",
       "                    --jp-layout-color2: #454545;\n",
       "                    background-color: #383838;\n",
       "                }\n",
       "\n",
       "                .geemap-dark .jupyter-button {\n",
       "                    --jp-layout-color3: #383838;\n",
       "                }\n",
       "\n",
       "                .geemap-colab {\n",
       "                    background-color: var(--colab-primary-surface-color, white);\n",
       "                }\n",
       "\n",
       "                .geemap-colab .jupyter-button {\n",
       "                    --jp-layout-color3: var(--colab-primary-surface-color, white);\n",
       "                }\n",
       "            </style>\n",
       "            "
      ],
      "text/plain": [
       "<IPython.core.display.HTML object>"
      ]
     },
     "metadata": {},
     "output_type": "display_data"
    }
   ],
   "source": [
    "summer_14 = air_temp_13_24.loc['2014-05-01':'2014-09-30']\n",
    "summer_22 = air_temp_13_24.loc['2022-05-01':'2022-09-30']"
   ]
  },
  {
   "cell_type": "code",
   "execution_count": 127,
   "id": "a2bf1016-00ae-48e1-b1fc-849e8fb94578",
   "metadata": {},
   "outputs": [
    {
     "data": {
      "text/html": [
       "\n",
       "            <style>\n",
       "                .geemap-dark {\n",
       "                    --jp-widgets-color: white;\n",
       "                    --jp-widgets-label-color: white;\n",
       "                    --jp-ui-font-color1: white;\n",
       "                    --jp-layout-color2: #454545;\n",
       "                    background-color: #383838;\n",
       "                }\n",
       "\n",
       "                .geemap-dark .jupyter-button {\n",
       "                    --jp-layout-color3: #383838;\n",
       "                }\n",
       "\n",
       "                .geemap-colab {\n",
       "                    background-color: var(--colab-primary-surface-color, white);\n",
       "                }\n",
       "\n",
       "                .geemap-colab .jupyter-button {\n",
       "                    --jp-layout-color3: var(--colab-primary-surface-color, white);\n",
       "                }\n",
       "            </style>\n",
       "            "
      ],
      "text/plain": [
       "<IPython.core.display.HTML object>"
      ]
     },
     "metadata": {},
     "output_type": "display_data"
    },
    {
     "name": "stderr",
     "output_type": "stream",
     "text": [
      "/var/folders/2s/0nsm0xkj0pdcsd9gc7jk66q00000gn/T/ipykernel_35336/3500591903.py:2: SettingWithCopyWarning: \n",
      "A value is trying to be set on a copy of a slice from a DataFrame.\n",
      "Try using .loc[row_indexer,col_indexer] = value instead\n",
      "\n",
      "See the caveats in the documentation: https://pandas.pydata.org/pandas-docs/stable/user_guide/indexing.html#returning-a-view-versus-a-copy\n",
      "  summer_14['month_day'] = pd.to_datetime('2000-' + summer_14.index.strftime('%m-%d'))\n",
      "/var/folders/2s/0nsm0xkj0pdcsd9gc7jk66q00000gn/T/ipykernel_35336/3500591903.py:3: SettingWithCopyWarning: \n",
      "A value is trying to be set on a copy of a slice from a DataFrame.\n",
      "Try using .loc[row_indexer,col_indexer] = value instead\n",
      "\n",
      "See the caveats in the documentation: https://pandas.pydata.org/pandas-docs/stable/user_guide/indexing.html#returning-a-view-versus-a-copy\n",
      "  summer_22['month_day'] = pd.to_datetime('2000-' + summer_22.index.strftime('%m-%d'))\n"
     ]
    },
    {
     "data": {
      "image/png": "[encoded data removed]",
      "text/plain": [
       "<Figure size 1200x600 with 1 Axes>"
      ]
     },
     "metadata": {},
     "output_type": "display_data"
    }
   ],
   "source": [
    "# dummy year datetime for x-axis\n",
    "summer_14['month_day'] = pd.to_datetime('2000-' + summer_14.index.strftime('%m-%d'))\n",
    "summer_22['month_day'] = pd.to_datetime('2000-' + summer_22.index.strftime('%m-%d'))\n",
    "\n",
    "# Start plot\n",
    "fig, ax = plt.subplots(figsize=(12, 6))\n",
    "\n",
    "# Plot temperature lines\n",
    "ax.plot(summer_14['month_day'], summer_14['air_temp'], color='black', label='2014', linewidth=1)\n",
    "ax.plot(summer_22['month_day'], summer_22['air_temp'], color='gray', linestyle='--', label='2022', linewidth=1)\n",
    "\n",
    "# Add horizontal heatwave threshold line\n",
    "ax.axhline(y=27, color='orange', linestyle='-', linewidth=0.8, label='27°C')\n",
    "\n",
    "# Satellite selection markers\n",
    "satellite_days = [\n",
    "    {'date': '05-22', 'year': 2014, 'color': 'green', 'linestyle': '-'},  # non-heatwave\n",
    "    {'date': '07-25', 'year': 2014, 'color': 'red',   'linestyle': '-'},  # heatwave\n",
    "    {'date': '05-21', 'year': 2022, 'color': 'green', 'linestyle': '--'}, # non-heatwave\n",
    "    {'date': '08-16', 'year': 2022, 'color': 'red',   'linestyle': '--'}  # heatwave\n",
    "]\n",
    "\n",
    "# Add vertical markers\n",
    "for entry in satellite_days:\n",
    "    dt = pd.to_datetime(f\"2000-{entry['date']}\")\n",
    "    ax.axvline(x=dt, color=entry['color'], linestyle=entry['linestyle'], linewidth=0.8)\n",
    "\n",
    "# Format x-axis\n",
    "xticks = pd.date_range(\"2000-05-01\", \"2000-10-01\", freq=\"MS\")\n",
    "ax.set_xticks(xticks)\n",
    "ax.set_xticklabels([d.strftime('%b') for d in xticks], fontname='Times New Roman', fontsize=12)\n",
    "ax.set_xlabel('Month', fontname='Times New Roman', fontsize=12)\n",
    "ax.set_ylabel('Maximum daily air temperature (°C)', fontname='Times New Roman', fontsize=12)\n",
    "\n",
    "# Create font properties\n",
    "times_new_roman = FontProperties(family='Times New Roman')\n",
    "\n",
    "# Apply it to the legend\n",
    "ax.legend(prop=times_new_roman, fontsize=12)\n",
    "\n",
    "# Add spacing to bottom in case you want text annotations later\n",
    "plt.subplots_adjust(bottom=0.15)\n",
    "\n",
    "plt.savefig('/Users/moritzmuhlbauer/Master Thesis/output/plots/air_temp_selection_plot.jpg', dpi=600)\n",
    "\n",
    "plt.show()"
   ]
  },
  {
   "cell_type": "markdown",
   "id": "dc8668fe-a11e-45b0-8cf3-3ef433c1b0cf",
   "metadata": {
    "jp-MarkdownHeadingCollapsed": true
   },
   "source": [
    "## Image Selection"
   ]
  },
  {
   "cell_type": "markdown",
   "id": "1a0ad279-3a36-4803-913b-a9ea634c4c09",
   "metadata": {},
   "source": [
    "### Collections by year"
   ]
  },
  {
   "cell_type": "code",
   "execution_count": 6,
   "id": "c095e928-3644-42da-a84b-178b86d9be47",
   "metadata": {},
   "outputs": [
    {
     "data": {
      "text/html": [
       "\n",
       "            <style>\n",
       "                .geemap-dark {\n",
       "                    --jp-widgets-color: white;\n",
       "                    --jp-widgets-label-color: white;\n",
       "                    --jp-ui-font-color1: white;\n",
       "                    --jp-layout-color2: #454545;\n",
       "                    background-color: #383838;\n",
       "                }\n",
       "\n",
       "                .geemap-dark .jupyter-button {\n",
       "                    --jp-layout-color3: #383838;\n",
       "                }\n",
       "\n",
       "                .geemap-colab {\n",
       "                    background-color: var(--colab-primary-surface-color, white);\n",
       "                }\n",
       "\n",
       "                .geemap-colab .jupyter-button {\n",
       "                    --jp-layout-color3: var(--colab-primary-surface-color, white);\n",
       "                }\n",
       "            </style>\n",
       "            "
      ],
      "text/plain": [
       "<IPython.core.display.HTML object>"
      ]
     },
     "metadata": {},
     "output_type": "display_data"
    }
   ],
   "source": [
    "# Define temporal filters\n",
    "# filter satellite images with index acess from heatwave DataFrame\n",
    "# already pre filter on month with heatwave period\n",
    "collection_2014 = landsatCollection_SR.filterDate('2014-05-01', '2014-08-31')\n",
    "collection_2018 = landsatCollection_SR.filterDate('2018-07-15', '2018-08-03')\n",
    "collection_2019 = landsatCollection_SR.filterDate('2019-06-04', '2019-06-08')\n",
    "collection_2020 = landsatCollection_SR.filterDate('2020-06-26', '2020-06-28')\n",
    "collection_2021 = landsatCollection_SR.filterDate('2021-06-18', '2021-07-16')\n",
    "collection_2022 = landsatCollection_SR.filterDate('2022-05-01', '2022-08-31')\n",
    "collection_2024 = landsatCollection_SR.filterDate('2024-05-27', '2024-05-29')"
   ]
  },
  {
   "cell_type": "code",
   "execution_count": 19,
   "id": "b17d6f33-dc64-4605-9545-2fee21d31310",
   "metadata": {},
   "outputs": [
    {
     "data": {
      "text/html": [
       "\n",
       "            <style>\n",
       "                .geemap-dark {\n",
       "                    --jp-widgets-color: white;\n",
       "                    --jp-widgets-label-color: white;\n",
       "                    --jp-ui-font-color1: white;\n",
       "                    --jp-layout-color2: #454545;\n",
       "                    background-color: #383838;\n",
       "                }\n",
       "\n",
       "                .geemap-dark .jupyter-button {\n",
       "                    --jp-layout-color3: #383838;\n",
       "                }\n",
       "\n",
       "                .geemap-colab {\n",
       "                    background-color: var(--colab-primary-surface-color, white);\n",
       "                }\n",
       "\n",
       "                .geemap-colab .jupyter-button {\n",
       "                    --jp-layout-color3: var(--colab-primary-surface-color, white);\n",
       "                }\n",
       "            </style>\n",
       "            "
      ],
      "text/plain": [
       "<IPython.core.display.HTML object>"
      ]
     },
     "metadata": {},
     "output_type": "display_data"
    },
    {
     "name": "stdout",
     "output_type": "stream",
     "text": [
      "2014 has 25 pictures\n",
      "2018 has 4 pictures\n",
      "2019 has 2 pictures\n",
      "2020 has 0 pictures\n",
      "2021 has 7 pictures\n",
      "2022 has 26 pictures\n",
      "2024 has 0 pictures\n"
     ]
    }
   ],
   "source": [
    "# checking quantity of the pictures\n",
    "print(f\"2014 has {collection_2014.size().getInfo()} pictures\")\n",
    "print(f\"2018 has {collection_2018.size().getInfo()} pictures\")\n",
    "print(f\"2019 has {collection_2019.size().getInfo()} pictures\")\n",
    "print(f\"2020 has {collection_2020.size().getInfo()} pictures\")\n",
    "print(f\"2021 has {collection_2021.size().getInfo()} pictures\")\n",
    "print(f\"2022 has {collection_2022.size().getInfo()} pictures\")\n",
    "print(f\"2024 has {collection_2024.size().getInfo()} pictures\")"
   ]
  },
  {
   "cell_type": "code",
   "execution_count": 20,
   "id": "a59d91f3-dc08-48a3-974f-f3cae22c048c",
   "metadata": {},
   "outputs": [
    {
     "data": {
      "text/html": [
       "\n",
       "            <style>\n",
       "                .geemap-dark {\n",
       "                    --jp-widgets-color: white;\n",
       "                    --jp-widgets-label-color: white;\n",
       "                    --jp-ui-font-color1: white;\n",
       "                    --jp-layout-color2: #454545;\n",
       "                    background-color: #383838;\n",
       "                }\n",
       "\n",
       "                .geemap-dark .jupyter-button {\n",
       "                    --jp-layout-color3: #383838;\n",
       "                }\n",
       "\n",
       "                .geemap-colab {\n",
       "                    background-color: var(--colab-primary-surface-color, white);\n",
       "                }\n",
       "\n",
       "                .geemap-colab .jupyter-button {\n",
       "                    --jp-layout-color3: var(--colab-primary-surface-color, white);\n",
       "                }\n",
       "            </style>\n",
       "            "
      ],
      "text/plain": [
       "<IPython.core.display.HTML object>"
      ]
     },
     "metadata": {},
     "output_type": "display_data"
    },
    {
     "name": "stdout",
     "output_type": "stream",
     "text": [
      "Available dates 2014: ['2014-05-15', '2014-05-31', '2014-06-16', '2014-07-02', '2014-07-18', '2014-08-03', '2014-08-19', '2014-05-06', '2014-05-22', '2014-06-07', '2014-06-23', '2014-07-09', '2014-07-25', '2014-08-10', '2014-08-26', '2014-05-06', '2014-05-22', '2014-06-07', '2014-06-23', '2014-07-09', '2014-07-25', '2014-08-10', '2014-05-13', '2014-08-01', '2014-08-17']\n",
      "\n",
      "Available dates 2022: ['2022-05-05', '2022-05-21', '2022-06-06', '2022-06-22', '2022-07-08', '2022-08-09', '2022-08-25', '2022-05-28', '2022-06-13', '2022-06-29', '2022-07-15', '2022-07-31', '2022-08-16', '2022-05-28', '2022-06-13', '2022-06-29', '2022-07-15', '2022-07-31', '2022-08-16', '2022-05-03', '2022-05-19', '2022-06-04', '2022-07-06', '2022-07-22', '2022-08-07', '2022-08-23']\n"
     ]
    }
   ],
   "source": [
    "# checking available days per month\n",
    "print(f\"Available dates 2014: {geemap.image_dates(collection_2014).getInfo()}\\n\")\n",
    "print(f\"Available dates 2022: {geemap.image_dates(collection_2022).getInfo()}\")"
   ]
  },
  {
   "cell_type": "code",
   "execution_count": 21,
   "id": "e72d0131-c636-438a-8b29-78a0015f4079",
   "metadata": {},
   "outputs": [
    {
     "data": {
      "text/html": [
       "\n",
       "            <style>\n",
       "                .geemap-dark {\n",
       "                    --jp-widgets-color: white;\n",
       "                    --jp-widgets-label-color: white;\n",
       "                    --jp-ui-font-color1: white;\n",
       "                    --jp-layout-color2: #454545;\n",
       "                    background-color: #383838;\n",
       "                }\n",
       "\n",
       "                .geemap-dark .jupyter-button {\n",
       "                    --jp-layout-color3: #383838;\n",
       "                }\n",
       "\n",
       "                .geemap-colab {\n",
       "                    background-color: var(--colab-primary-surface-color, white);\n",
       "                }\n",
       "\n",
       "                .geemap-colab .jupyter-button {\n",
       "                    --jp-layout-color3: var(--colab-primary-surface-color, white);\n",
       "                }\n",
       "            </style>\n",
       "            "
      ],
      "text/plain": [
       "<IPython.core.display.HTML object>"
      ]
     },
     "metadata": {},
     "output_type": "display_data"
    }
   ],
   "source": [
    "#print(f\"Available bands: {ee.Image(collection_20.first()).bandNames().getInfo()}\")"
   ]
  },
  {
   "cell_type": "code",
   "execution_count": 22,
   "id": "b375ecda-d93a-4ade-8689-638ec86b10e1",
   "metadata": {},
   "outputs": [
    {
     "data": {
      "text/html": [
       "\n",
       "            <style>\n",
       "                .geemap-dark {\n",
       "                    --jp-widgets-color: white;\n",
       "                    --jp-widgets-label-color: white;\n",
       "                    --jp-ui-font-color1: white;\n",
       "                    --jp-layout-color2: #454545;\n",
       "                    background-color: #383838;\n",
       "                }\n",
       "\n",
       "                .geemap-dark .jupyter-button {\n",
       "                    --jp-layout-color3: #383838;\n",
       "                }\n",
       "\n",
       "                .geemap-colab {\n",
       "                    background-color: var(--colab-primary-surface-color, white);\n",
       "                }\n",
       "\n",
       "                .geemap-colab .jupyter-button {\n",
       "                    --jp-layout-color3: var(--colab-primary-surface-color, white);\n",
       "                }\n",
       "            </style>\n",
       "            "
      ],
      "text/plain": [
       "<IPython.core.display.HTML object>"
      ]
     },
     "metadata": {},
     "output_type": "display_data"
    }
   ],
   "source": [
    "# visualization parameters for a true color composite of Landast 8 images before re-scaling\n",
    "vis_params_tc = {\n",
    "    'bands': ['SR_B4', 'SR_B3', 'SR_B2'],  # True Color (Red-Green-Blue)\n",
    "    'min': 7000,\n",
    "    'max': 15000\n",
    "}"
   ]
  },
  {
   "cell_type": "code",
   "execution_count": 7,
   "id": "6f768464-2879-4434-999d-bff90ef1f75a",
   "metadata": {
    "scrolled": true
   },
   "outputs": [
    {
     "data": {
      "text/html": [
       "\n",
       "            <style>\n",
       "                .geemap-dark {\n",
       "                    --jp-widgets-color: white;\n",
       "                    --jp-widgets-label-color: white;\n",
       "                    --jp-ui-font-color1: white;\n",
       "                    --jp-layout-color2: #454545;\n",
       "                    background-color: #383838;\n",
       "                }\n",
       "\n",
       "                .geemap-dark .jupyter-button {\n",
       "                    --jp-layout-color3: #383838;\n",
       "                }\n",
       "\n",
       "                .geemap-colab {\n",
       "                    background-color: var(--colab-primary-surface-color, white);\n",
       "                }\n",
       "\n",
       "                .geemap-colab .jupyter-button {\n",
       "                    --jp-layout-color3: var(--colab-primary-surface-color, white);\n",
       "                }\n",
       "            </style>\n",
       "            "
      ],
      "text/plain": [
       "<IPython.core.display.HTML object>"
      ]
     },
     "metadata": {},
     "output_type": "display_data"
    }
   ],
   "source": [
    "# converting image collection to list\n",
    "collection_2014_list = collection_2014.toList(collection_2014.size())\n",
    "collection_2018_list = collection_2018.toList(collection_2018.size())\n",
    "collection_2019_list = collection_2019.toList(collection_2019.size())\n",
    "collection_2021_list = collection_2021.toList(collection_2021.size())\n",
    "collection_2022_list = collection_2022.toList(collection_2022.size())"
   ]
  },
  {
   "cell_type": "markdown",
   "id": "5aed197a-6823-4e0d-bbd4-435c3b734250",
   "metadata": {},
   "source": [
    "### Visual screening on interactive map extent"
   ]
  },
  {
   "cell_type": "code",
   "execution_count": 24,
   "id": "c8a6c251-57bc-44e5-beb3-c8c6752675c0",
   "metadata": {
    "scrolled": true
   },
   "outputs": [
    {
     "data": {
      "text/html": [
       "\n",
       "            <style>\n",
       "                .geemap-dark {\n",
       "                    --jp-widgets-color: white;\n",
       "                    --jp-widgets-label-color: white;\n",
       "                    --jp-ui-font-color1: white;\n",
       "                    --jp-layout-color2: #454545;\n",
       "                    background-color: #383838;\n",
       "                }\n",
       "\n",
       "                .geemap-dark .jupyter-button {\n",
       "                    --jp-layout-color3: #383838;\n",
       "                }\n",
       "\n",
       "                .geemap-colab {\n",
       "                    background-color: var(--colab-primary-surface-color, white);\n",
       "                }\n",
       "\n",
       "                .geemap-colab .jupyter-button {\n",
       "                    --jp-layout-color3: var(--colab-primary-surface-color, white);\n",
       "                }\n",
       "            </style>\n",
       "            "
      ],
      "text/plain": [
       "<IPython.core.display.HTML object>"
      ]
     },
     "metadata": {},
     "output_type": "display_data"
    }
   ],
   "source": [
    "# now all available pictures can be selected based on cloud cover and coverage and the best fitting can be selected for further processing\n",
    "# because of the heatwave comparison, exact days must be selected. This is one way to identify and use single images and extract them out of feature collection. For cloud-cover free scenes,\n",
    "# median composites of multiple pictures safed in one image collection could be used. Like this, a precise determination of heatdays and non-heatdays will not be possible when analyising thermal bands\n",
    "\n",
    "# loading all images of the image collection onto one map extent and selecting the best fit regarding coverage and clouds \n",
    "# initializing a interactive map extent\n",
    "collections_by_year = {\n",
    "    2014: collection_2014_list,\n",
    "    2018: collection_2018_list,\n",
    "    2019: collection_2019_list,\n",
    "    2021: collection_2021_list,\n",
    "    2022: collection_2022_list\n",
    "}\n",
    "\n",
    "maps = create_maps_from_collections(collections_by_year, vis_params_tc, tallinn)\n",
    "\n",
    "# Display the maps:\n",
    "#maps[2014]\n",
    "#maps[2018]\n",
    "#maps[2019]\n",
    "#maps[2021]\n",
    "#maps[2022]"
   ]
  },
  {
   "cell_type": "code",
   "execution_count": 26,
   "id": "0b7ee4cf-e7d1-410b-929b-4b6127b35622",
   "metadata": {
    "scrolled": true
   },
   "outputs": [
    {
     "data": {
      "text/html": [
       "\n",
       "            <style>\n",
       "                .geemap-dark {\n",
       "                    --jp-widgets-color: white;\n",
       "                    --jp-widgets-label-color: white;\n",
       "                    --jp-ui-font-color1: white;\n",
       "                    --jp-layout-color2: #454545;\n",
       "                    background-color: #383838;\n",
       "                }\n",
       "\n",
       "                .geemap-dark .jupyter-button {\n",
       "                    --jp-layout-color3: #383838;\n",
       "                }\n",
       "\n",
       "                .geemap-colab {\n",
       "                    background-color: var(--colab-primary-surface-color, white);\n",
       "                }\n",
       "\n",
       "                .geemap-colab .jupyter-button {\n",
       "                    --jp-layout-color3: var(--colab-primary-surface-color, white);\n",
       "                }\n",
       "            </style>\n",
       "            "
      ],
      "text/plain": [
       "<IPython.core.display.HTML object>"
      ]
     },
     "metadata": {},
     "output_type": "display_data"
    },
    {
     "data": {
      "application/vnd.jupyter.widget-view+json": {
       "model_id": "c7ff401e595c401ca73f2a0ff16f6a47",
       "version_major": 2,
       "version_minor": 0
      },
      "text/plain": [
       "Map(center=[59.430752, 24.751965], controls=(WidgetControl(options=['position', 'transparent_bg'], widget=Sear…"
      ]
     },
     "execution_count": 26,
     "metadata": {},
     "output_type": "execute_result"
    }
   ],
   "source": [
    "maps[2022]"
   ]
  },
  {
   "cell_type": "markdown",
   "id": "2fa18122-b310-4211-8cd4-7efeb8165f58",
   "metadata": {},
   "source": [
    "### Image selection from collection list"
   ]
  },
  {
   "cell_type": "raw",
   "id": "806a5918-3a52-4df1-8047-b85facbff07b",
   "metadata": {},
   "source": [
    "When multiple images per day, select the image by its position in the image collection list, images were selcected based on optical screening for covarage of Tallinn and cloud cover\n",
    "Selecting two images per day to create mosaic and obtain maximum coverage"
   ]
  },
  {
   "cell_type": "markdown",
   "id": "76e230b0-f64e-46a1-9418-dc791951865f",
   "metadata": {},
   "source": [
    "#### 2014"
   ]
  },
  {
   "cell_type": "markdown",
   "id": "82c58287-9195-4e9a-82e8-a76879c7aa3b",
   "metadata": {},
   "source": [
    "**Heatwave**"
   ]
  },
  {
   "cell_type": "code",
   "execution_count": 8,
   "id": "42dbd99c-69d6-4c7b-9725-7377ce4697f4",
   "metadata": {},
   "outputs": [
    {
     "data": {
      "text/html": [
       "\n",
       "            <style>\n",
       "                .geemap-dark {\n",
       "                    --jp-widgets-color: white;\n",
       "                    --jp-widgets-label-color: white;\n",
       "                    --jp-ui-font-color1: white;\n",
       "                    --jp-layout-color2: #454545;\n",
       "                    background-color: #383838;\n",
       "                }\n",
       "\n",
       "                .geemap-dark .jupyter-button {\n",
       "                    --jp-layout-color3: #383838;\n",
       "                }\n",
       "\n",
       "                .geemap-colab {\n",
       "                    background-color: var(--colab-primary-surface-color, white);\n",
       "                }\n",
       "\n",
       "                .geemap-colab .jupyter-button {\n",
       "                    --jp-layout-color3: var(--colab-primary-surface-color, white);\n",
       "                }\n",
       "            </style>\n",
       "            "
      ],
      "text/plain": [
       "<IPython.core.display.HTML object>"
      ]
     },
     "metadata": {},
     "output_type": "display_data"
    }
   ],
   "source": [
    "image_2014_07_25_1 = ee.Image(collection_2014_list.get(12)) # for mosaic creation\n",
    "image_2014_07_25_2 = ee.Image(collection_2014_list.get(20)) # for mosaic creation\n",
    "\n",
    "image_2014_08_03 = ee.Image(collection_2014_list.get(5)) # single image covering tallinn for comparison"
   ]
  },
  {
   "cell_type": "markdown",
   "id": "06457018-b224-4cee-ba84-b7a6be0543c3",
   "metadata": {},
   "source": [
    "**No Heatwave**"
   ]
  },
  {
   "cell_type": "code",
   "execution_count": 10,
   "id": "6431e2e2-e3fe-4e73-9000-c84b1e2e4c9b",
   "metadata": {},
   "outputs": [
    {
     "data": {
      "text/html": [
       "\n",
       "            <style>\n",
       "                .geemap-dark {\n",
       "                    --jp-widgets-color: white;\n",
       "                    --jp-widgets-label-color: white;\n",
       "                    --jp-ui-font-color1: white;\n",
       "                    --jp-layout-color2: #454545;\n",
       "                    background-color: #383838;\n",
       "                }\n",
       "\n",
       "                .geemap-dark .jupyter-button {\n",
       "                    --jp-layout-color3: #383838;\n",
       "                }\n",
       "\n",
       "                .geemap-colab {\n",
       "                    background-color: var(--colab-primary-surface-color, white);\n",
       "                }\n",
       "\n",
       "                .geemap-colab .jupyter-button {\n",
       "                    --jp-layout-color3: var(--colab-primary-surface-color, white);\n",
       "                }\n",
       "            </style>\n",
       "            "
      ],
      "text/plain": [
       "<IPython.core.display.HTML object>"
      ]
     },
     "metadata": {},
     "output_type": "display_data"
    }
   ],
   "source": [
    "image_2014_05_22_1 = ee.Image(collection_2014_list.get(8)) # for mosaic creation\n",
    "image_2014_05_22_2 = ee.Image(collection_2014_list.get(16)) # for mosaic creation"
   ]
  },
  {
   "cell_type": "markdown",
   "id": "6fa24bce-78b1-41a6-bbea-613ea17c7003",
   "metadata": {},
   "source": [
    "#### 2022"
   ]
  },
  {
   "cell_type": "markdown",
   "id": "b05775cd-d374-4598-854b-5876b63851bc",
   "metadata": {},
   "source": [
    "**Heatwave**"
   ]
  },
  {
   "cell_type": "code",
   "execution_count": 11,
   "id": "2ed07740-201e-45d4-b5d9-cb71c8cc3cc7",
   "metadata": {},
   "outputs": [
    {
     "data": {
      "text/html": [
       "\n",
       "            <style>\n",
       "                .geemap-dark {\n",
       "                    --jp-widgets-color: white;\n",
       "                    --jp-widgets-label-color: white;\n",
       "                    --jp-ui-font-color1: white;\n",
       "                    --jp-layout-color2: #454545;\n",
       "                    background-color: #383838;\n",
       "                }\n",
       "\n",
       "                .geemap-dark .jupyter-button {\n",
       "                    --jp-layout-color3: #383838;\n",
       "                }\n",
       "\n",
       "                .geemap-colab {\n",
       "                    background-color: var(--colab-primary-surface-color, white);\n",
       "                }\n",
       "\n",
       "                .geemap-colab .jupyter-button {\n",
       "                    --jp-layout-color3: var(--colab-primary-surface-color, white);\n",
       "                }\n",
       "            </style>\n",
       "            "
      ],
      "text/plain": [
       "<IPython.core.display.HTML object>"
      ]
     },
     "metadata": {},
     "output_type": "display_data"
    }
   ],
   "source": [
    "image_2022_08_16_1 = ee.Image(collection_2022_list.get(12)) # for mosaic creation\n",
    "image_2022_08_16_2 = ee.Image(collection_2022_list.get(18)) # for mosaic creation"
   ]
  },
  {
   "cell_type": "markdown",
   "id": "54288a91-1058-4afa-b456-3e625fd7b522",
   "metadata": {},
   "source": [
    "**No Heatwave**"
   ]
  },
  {
   "cell_type": "code",
   "execution_count": 12,
   "id": "a30e1716-0009-45f5-9a97-b84b39c5b97b",
   "metadata": {},
   "outputs": [
    {
     "data": {
      "text/html": [
       "\n",
       "            <style>\n",
       "                .geemap-dark {\n",
       "                    --jp-widgets-color: white;\n",
       "                    --jp-widgets-label-color: white;\n",
       "                    --jp-ui-font-color1: white;\n",
       "                    --jp-layout-color2: #454545;\n",
       "                    background-color: #383838;\n",
       "                }\n",
       "\n",
       "                .geemap-dark .jupyter-button {\n",
       "                    --jp-layout-color3: #383838;\n",
       "                }\n",
       "\n",
       "                .geemap-colab {\n",
       "                    background-color: var(--colab-primary-surface-color, white);\n",
       "                }\n",
       "\n",
       "                .geemap-colab .jupyter-button {\n",
       "                    --jp-layout-color3: var(--colab-primary-surface-color, white);\n",
       "                }\n",
       "            </style>\n",
       "            "
      ],
      "text/plain": [
       "<IPython.core.display.HTML object>"
      ]
     },
     "metadata": {},
     "output_type": "display_data"
    }
   ],
   "source": [
    "image_2022_05_21 = ee.Image(collection_2022_list.get(1)) # single image covering tallinn for comparison\n",
    "\n",
    "image_2022_06_06 = ee.Image(collection_2022_list.get(2)) # single image covering tallinn for comparison"
   ]
  },
  {
   "cell_type": "markdown",
   "id": "f49325db-60a0-430f-a857-16e0e015785c",
   "metadata": {},
   "source": [
    "---"
   ]
  },
  {
   "cell_type": "code",
   "execution_count": 13,
   "id": "f73184ac-4b38-40c2-a3c7-8d08fc72e872",
   "metadata": {},
   "outputs": [
    {
     "data": {
      "text/html": [
       "\n",
       "            <style>\n",
       "                .geemap-dark {\n",
       "                    --jp-widgets-color: white;\n",
       "                    --jp-widgets-label-color: white;\n",
       "                    --jp-ui-font-color1: white;\n",
       "                    --jp-layout-color2: #454545;\n",
       "                    background-color: #383838;\n",
       "                }\n",
       "\n",
       "                .geemap-dark .jupyter-button {\n",
       "                    --jp-layout-color3: #383838;\n",
       "                }\n",
       "\n",
       "                .geemap-colab {\n",
       "                    background-color: var(--colab-primary-surface-color, white);\n",
       "                }\n",
       "\n",
       "                .geemap-colab .jupyter-button {\n",
       "                    --jp-layout-color3: var(--colab-primary-surface-color, white);\n",
       "                }\n",
       "            </style>\n",
       "            "
      ],
      "text/plain": [
       "<IPython.core.display.HTML object>"
      ]
     },
     "metadata": {},
     "output_type": "display_data"
    },
    {
     "name": "stdout",
     "output_type": "stream",
     "text": [
      "Acquisition time of heatwave mosaic in 2014: 2014-07-25 09:29:32.689000 and 2014-07-25 09:29:56.580000\n",
      "Acquisition time heatwave mosaic in 2022: 2022-08-16 09:30:11.455000 and 2022-08-16 09:30:35.337000\n",
      "\n",
      "Acquistion time of single heatwave image in 2014: 2014-08-03 09:23:52.442000\n"
     ]
    }
   ],
   "source": [
    "# acquisition time (system:time_start is in milliseconds since epoch)\n",
    "timestamp_ms_2014_08_03 = image_2014_08_03.get('system:time_start').getInfo()\n",
    "\n",
    "timestamp_ms_2014_1 = image_2014_07_25_1.get('system:time_start').getInfo()\n",
    "timestamp_ms_2014_2 = image_2014_07_25_2.get('system:time_start').getInfo()\n",
    "\n",
    "timestamp_ms_2022_1 = image_2022_08_16_1.get('system:time_start').getInfo()\n",
    "timestamp_ms_2022_2 = image_2022_08_16_2.get('system:time_start').getInfo()\n",
    "\n",
    "# converting to human-readable datetime\n",
    "acquisition_time_2014_08_03 = datetime.utcfromtimestamp(timestamp_ms_2014_08_03 / 1000)\n",
    "\n",
    "acquisition_time_2014_1 = datetime.utcfromtimestamp(timestamp_ms_2014_1 / 1000)\n",
    "acquisition_time_2014_2 = datetime.utcfromtimestamp(timestamp_ms_2014_2 / 1000)\n",
    "\n",
    "acquisition_time_2022_1 = datetime.utcfromtimestamp(timestamp_ms_2022_1 / 1000)\n",
    "acquisition_time_2022_2 = datetime.utcfromtimestamp(timestamp_ms_2022_2 / 1000)\n",
    "\n",
    "print(f\"Acquisition time of heatwave mosaic in 2014: {acquisition_time_2014_1} and {acquisition_time_2014_2}\\nAcquisition time heatwave mosaic in 2022: {acquisition_time_2022_1} and {acquisition_time_2022_2}\\n\")\n",
    "print(f\"Acquistion time of single heatwave image in 2014: {acquisition_time_2014_08_03}\")"
   ]
  },
  {
   "cell_type": "raw",
   "id": "1de0f99a-89ae-41d2-a9c5-020cc2fcde4e",
   "metadata": {},
   "source": [
    "Perfect. Pictures can be merged since their acquisition time is temporarily very close and building the mean is not going to bias the LST band.\n",
    "This time is UTC, in Estonia this equals to 12:30 midday approxiamtely. During this time max SUHII effect is expected.\n",
    "\n",
    "Single image was acquired at approximately the same time."
   ]
  },
  {
   "cell_type": "code",
   "execution_count": 32,
   "id": "0b45337a-5cbb-4117-a4b4-c171b1bbabda",
   "metadata": {},
   "outputs": [
    {
     "data": {
      "text/html": [
       "\n",
       "            <style>\n",
       "                .geemap-dark {\n",
       "                    --jp-widgets-color: white;\n",
       "                    --jp-widgets-label-color: white;\n",
       "                    --jp-ui-font-color1: white;\n",
       "                    --jp-layout-color2: #454545;\n",
       "                    background-color: #383838;\n",
       "                }\n",
       "\n",
       "                .geemap-dark .jupyter-button {\n",
       "                    --jp-layout-color3: #383838;\n",
       "                }\n",
       "\n",
       "                .geemap-colab {\n",
       "                    background-color: var(--colab-primary-surface-color, white);\n",
       "                }\n",
       "\n",
       "                .geemap-colab .jupyter-button {\n",
       "                    --jp-layout-color3: var(--colab-primary-surface-color, white);\n",
       "                }\n",
       "            </style>\n",
       "            "
      ],
      "text/plain": [
       "<IPython.core.display.HTML object>"
      ]
     },
     "metadata": {},
     "output_type": "display_data"
    },
    {
     "name": "stdout",
     "output_type": "stream",
     "text": [
      "Acquisition time of non heatwave mosaic in 2014: 2014-05-22 09:29:09.661000 and 2014-05-22 09:29:33.548000\n",
      "\n",
      "Acquisition time of first non heatwave single image in 2022: 2022-05-21 09:23:49.542000\n",
      "\n",
      "Acquisition time of second non heatwave single image in 2022: 2022-06-06 09:23:57.122000\n",
      "\n"
     ]
    }
   ],
   "source": [
    "# Get the acquisition time (system:time_start is in milliseconds since epoch)\n",
    "\n",
    "timestamp_ms_2014_05_22_1 = image_2014_05_22_1.get('system:time_start').getInfo()\n",
    "timestamp_ms_2014_05_22_2 = image_2014_05_22_2.get('system:time_start').getInfo()\n",
    "\n",
    "timestamp_ms_2022_05_21 = image_2022_05_21.get('system:time_start').getInfo()\n",
    "\n",
    "timestamp_ms_2022_06_06 = image_2022_06_06.get('system:time_start').getInfo()\n",
    "\n",
    "# Convert to human-readable datetime\n",
    "acquisition_time_2014_05_22_1 = datetime.utcfromtimestamp(timestamp_ms_2014_05_22_1 / 1000)\n",
    "acquisition_time_2014_05_22_2 = datetime.utcfromtimestamp(timestamp_ms_2014_05_22_2 / 1000)\n",
    "\n",
    "acquisition_time_2022_05_21 = datetime.utcfromtimestamp(timestamp_ms_2022_05_21 / 1000)\n",
    "\n",
    "acquisition_time_2022_06_06 = datetime.utcfromtimestamp(timestamp_ms_2022_06_06 / 1000)\n",
    "\n",
    "print(f\"Acquisition time of non heatwave mosaic in 2014: {acquisition_time_2014_05_22_1} and {acquisition_time_2014_05_22_2}\\n\")\n",
    "print(f\"Acquisition time of first non heatwave single image in 2022: {acquisition_time_2022_05_21}\\n\")\n",
    "print(f\"Acquisition time of second non heatwave single image in 2022: {acquisition_time_2022_06_06}\\n\")"
   ]
  },
  {
   "cell_type": "markdown",
   "id": "576f6264-1514-4870-8813-73234065a72f",
   "metadata": {},
   "source": [
    "Concluding, all the images (either heatwave or no heatwave/mosaic or single image) are acquired at almost the same time which is great for comparative analysis."
   ]
  },
  {
   "cell_type": "markdown",
   "id": "a839859a-c3bf-49cc-b5fb-751ceade6f31",
   "metadata": {},
   "source": [
    "---"
   ]
  },
  {
   "cell_type": "code",
   "execution_count": 33,
   "id": "31af8ef3-de46-4f5c-8a64-a8649c4ddb3f",
   "metadata": {},
   "outputs": [
    {
     "data": {
      "text/html": [
       "\n",
       "            <style>\n",
       "                .geemap-dark {\n",
       "                    --jp-widgets-color: white;\n",
       "                    --jp-widgets-label-color: white;\n",
       "                    --jp-ui-font-color1: white;\n",
       "                    --jp-layout-color2: #454545;\n",
       "                    background-color: #383838;\n",
       "                }\n",
       "\n",
       "                .geemap-dark .jupyter-button {\n",
       "                    --jp-layout-color3: #383838;\n",
       "                }\n",
       "\n",
       "                .geemap-colab {\n",
       "                    background-color: var(--colab-primary-surface-color, white);\n",
       "                }\n",
       "\n",
       "                .geemap-colab .jupyter-button {\n",
       "                    --jp-layout-color3: var(--colab-primary-surface-color, white);\n",
       "                }\n",
       "            </style>\n",
       "            "
      ],
      "text/plain": [
       "<IPython.core.display.HTML object>"
      ]
     },
     "metadata": {},
     "output_type": "display_data"
    }
   ],
   "source": [
    "# creating mean collection composites per year #\n",
    "\n",
    "# heatwave mosaic 2014 \n",
    "mosaic_2014_07_25 = ee.ImageCollection([image_2014_07_25_1, image_2014_07_25_2]).mean()\n",
    "aoi_14 = image_2014_07_25_1.geometry().union(image_2014_07_25_2.geometry())\n",
    "mosaic_2014_07_25 = mosaic_2014_07_25.clip(aoi_14)\n",
    "\n",
    "# heatwave mosaic 2022 \n",
    "mosaic_2022_08_16 = ee.ImageCollection([image_2022_08_16_1, image_2022_08_16_2]).mean()\n",
    "aoi_22 = image_2022_08_16_1.geometry().union(image_2022_08_16_2.geometry())\n",
    "mosaic_2022_08_16 = mosaic_2022_08_16.clip(aoi_22)\n",
    "\n",
    "# non heatwave mosaic 2014\n",
    "mosaic_2014_05_22 = ee.ImageCollection([image_2014_05_22_1, image_2014_05_22_2]).mean()\n",
    "aoi_14_2 = image_2014_05_22_1.geometry().union(image_2014_05_22_2.geometry())\n",
    "mosaic_2014_05_22 = mosaic_2014_05_22.clip(aoi_14_2)"
   ]
  },
  {
   "cell_type": "code",
   "execution_count": 44,
   "id": "722d4992-cb0f-4622-88a3-23e63e46278e",
   "metadata": {
    "scrolled": true
   },
   "outputs": [
    {
     "data": {
      "text/html": [
       "\n",
       "            <style>\n",
       "                .geemap-dark {\n",
       "                    --jp-widgets-color: white;\n",
       "                    --jp-widgets-label-color: white;\n",
       "                    --jp-ui-font-color1: white;\n",
       "                    --jp-layout-color2: #454545;\n",
       "                    background-color: #383838;\n",
       "                }\n",
       "\n",
       "                .geemap-dark .jupyter-button {\n",
       "                    --jp-layout-color3: #383838;\n",
       "                }\n",
       "\n",
       "                .geemap-colab {\n",
       "                    background-color: var(--colab-primary-surface-color, white);\n",
       "                }\n",
       "\n",
       "                .geemap-colab .jupyter-button {\n",
       "                    --jp-layout-color3: var(--colab-primary-surface-color, white);\n",
       "                }\n",
       "            </style>\n",
       "            "
      ],
      "text/plain": [
       "<IPython.core.display.HTML object>"
      ]
     },
     "metadata": {},
     "output_type": "display_data"
    },
    {
     "data": {
      "application/vnd.jupyter.widget-view+json": {
       "model_id": "e9c2d8bb04db4e6c9d0cfbfcb8f61e8c",
       "version_major": 2,
       "version_minor": 0
      },
      "text/plain": [
       "Map(center=[59.430752, 24.751965], controls=(WidgetControl(options=['position', 'transparent_bg'], widget=Sear…"
      ]
     },
     "execution_count": 44,
     "metadata": {},
     "output_type": "execute_result"
    }
   ],
   "source": [
    "# QUALITY CONTROL: inspect every selected image #\n",
    "\n",
    "map_image_selected = geemap.Map(center = [59.430752, 24.751965], zoom =11)\n",
    "\n",
    "# single heatwave image of 2014\n",
    "map_image_selected.add_layer(image_2014_08_03, vis_params_tc, f\"{image_2014_08_03.get('DATE_ACQUIRED').getInfo()}\")\n",
    "\n",
    "# single non heatwave images of 2022\n",
    "map_image_selected.add_layer(image_2022_05_21, vis_params_tc, f\"{image_2022_05_21.get('DATE_ACQUIRED').getInfo()}\")\n",
    "map_image_selected.add_layer(image_2022_06_06, vis_params_tc, f\"{image_2022_06_06.get('DATE_ACQUIRED').getInfo()}\")\n",
    "\n",
    "\n",
    "# single images of 2014 heatwave mosaic\n",
    "map_image_selected.add_layer(image_2014_07_25_1, vis_params_tc, f\"{image_2014_07_25_1.get('DATE_ACQUIRED').getInfo()}_1\")\n",
    "map_image_selected.add_layer(image_2014_07_25_2, vis_params_tc, f\"{image_2014_07_25_2.get('DATE_ACQUIRED').getInfo()}_2\")\n",
    "\n",
    "# single images of 2022 heatwave mosaic\n",
    "map_image_selected.add_layer(image_2022_08_16_1, vis_params_tc, f\"{image_2022_08_16_1.get('DATE_ACQUIRED').getInfo()}_1\")\n",
    "map_image_selected.add_layer(image_2022_08_16_2, vis_params_tc, f\"{image_2022_08_16_2.get('DATE_ACQUIRED').getInfo()}_2\")\n",
    "\n",
    "# single images of 2014 non heatwave mosaic\n",
    "map_image_selected.add_layer(image_2014_05_22_1, vis_params_tc, f\"{image_2014_05_22_1.get('DATE_ACQUIRED').getInfo()}_1\")\n",
    "map_image_selected.add_layer(image_2014_05_22_2, vis_params_tc, f\"{image_2014_05_22_2.get('DATE_ACQUIRED').getInfo()}_2\")\n",
    "\n",
    "# heatwave mosaic 2014\n",
    "map_image_selected.add_layer(mosaic_2014_07_25, vis_params_tc, f\"hw mosaic 2014\")\n",
    "# heatwave mosaic 2022\n",
    "map_image_selected.add_layer(mosaic_2022_08_16, vis_params_tc, f\"hw mosaic 2022\")\n",
    "# non heatwave mosaic 2014\n",
    "map_image_selected.add_layer(mosaic_2014_05_22, vis_params_tc, f\"non hw mosaic 2014\")\n",
    "\n",
    "\n",
    "map_image_selected.add_layer(tallinn, {}, \"Tallinn boundary\")\n",
    "map_image_selected.add_layer(extent, {}, \"Export extent\")\n",
    "map_image_selected.to_html(filename='map_image_selected.html',width=\"100%\",height=\"1000px\")\n",
    "\n",
    "map_image_selected"
   ]
  },
  {
   "cell_type": "code",
   "execution_count": 25,
   "id": "01c9fe0a-73eb-4d24-a573-35bb0370f4cc",
   "metadata": {},
   "outputs": [
    {
     "data": {
      "text/html": [
       "\n",
       "            <style>\n",
       "                .geemap-dark {\n",
       "                    --jp-widgets-color: white;\n",
       "                    --jp-widgets-label-color: white;\n",
       "                    --jp-ui-font-color1: white;\n",
       "                    --jp-layout-color2: #454545;\n",
       "                    background-color: #383838;\n",
       "                }\n",
       "\n",
       "                .geemap-dark .jupyter-button {\n",
       "                    --jp-layout-color3: #383838;\n",
       "                }\n",
       "\n",
       "                .geemap-colab {\n",
       "                    background-color: var(--colab-primary-surface-color, white);\n",
       "                }\n",
       "\n",
       "                .geemap-colab .jupyter-button {\n",
       "                    --jp-layout-color3: var(--colab-primary-surface-color, white);\n",
       "                }\n",
       "            </style>\n",
       "            "
      ],
      "text/plain": [
       "<IPython.core.display.HTML object>"
      ]
     },
     "metadata": {},
     "output_type": "display_data"
    }
   ],
   "source": [
    "# get some metadata on the image selection\n",
    "#print(f\"Projection: {image_20_06_23.projection().getInfo()}\")\n",
    "#print(f\"Properties: {l8_2013_07_15.propertyNames().getInfo()}\")\n",
    "#print(f\"Band Names: {image_20_06_23.bandNames().getInfo()}\")\n",
    "#print(f\"Processing level: {image_20_06_23.get('PROCESSING_LEVEL').getInfo()}\")"
   ]
  },
  {
   "cell_type": "markdown",
   "id": "efacc32c-5d70-4884-9197-b5b439a49b57",
   "metadata": {
    "jp-MarkdownHeadingCollapsed": true
   },
   "source": [
    "### test"
   ]
  },
  {
   "cell_type": "raw",
   "id": "f72694b2-43f7-4c98-bd66-a2722b9434f7",
   "metadata": {},
   "source": [
    "def conduct_processing(image, tallinn):\n",
    "    \n",
    "    # applying re-scale function\n",
    "    image = apply_scale_factors(image)\n",
    "    print('Image rescaled')\n",
    "    # applying reproject function\n",
    "    image = raster_reproject(image)   \n",
    "    print(f\"Image reprojected: {image.projection().getInfo()}\")\n",
    "    # applying raster clip function\n",
    "    image_clipped = raster_clip(image, tallinn)\n",
    "    print('Image clipped to Tallinn extent')\n",
    "\n",
    "    # applying NDVI calculation function\n",
    "    NDVI = calculate_NDVI(image_clipped)\n",
    "    print('NDVI calculated')\n",
    "    # applying NDWI calculation function\n",
    "    NDWI = calculate_NDWI(image_clipped)\n",
    "    print('NDWI calculated')\n",
    "    # applying NDBI calculation function\n",
    "    NDBI = calculate_NDBI(image_clipped)\n",
    "    print('NDBI calculated')\n",
    "\n",
    "    # extracting land surface temperature\n",
    "    LST = image_clipped.select(['ST_B10']).rename(['LST'])\n",
    "    print('Land surface temperature extracted')\n",
    "    # extracting min, max and mean\n",
    "    max_dict = geemap.image_max_value(LST).getInfo()\n",
    "    min_dict = geemap.image_min_value(LST).getInfo()\n",
    "    mean_dict = geemap.image_mean_value(LST).getInfo()\n",
    "    print(f\"On the {image.get('DATE_ACQUIRED').getInfo()} the minimum land surface temperature was {round(min_dict['LST'],2)}, the maximum was {round(max_dict['LST'],2)} and the mean was {round(mean_dict['LST'],2)} °C\")\n",
    "\n",
    "    return NDVI, NDWI, NDBI, LST"
   ]
  },
  {
   "cell_type": "raw",
   "id": "5da84974-5d9c-482a-98a2-4dd5e313917e",
   "metadata": {},
   "source": [
    "# execute processing\n",
    "# for 2014\n",
    "print('Processing for 2014 started ...\\n')\n",
    "NDVI_2014_08_03, NDWI_2014_08_03, NDBI_2014_08_03, LST_2014_08_03 = conduct_processing(image_2014_08_03, tallinn)\n",
    "print('\\nProcessing for 2014 finished\\n')\n",
    "# for 2022\n",
    "print('Processing for 2022 started ...\\n')\n",
    "NDVI_2022_08_16, NDWI_2022_08_16, NDBI_2022_08_16, LST_2022_08_16 = conduct_processing(image_2022_08_16, tallinn)\n",
    "print('\\nProcessing for 2022 finished\\n')"
   ]
  },
  {
   "cell_type": "markdown",
   "id": "cd0a5d3a-090b-4cfe-8238-cb4937cab5d6",
   "metadata": {},
   "source": [
    "## Image Processing"
   ]
  },
  {
   "cell_type": "markdown",
   "id": "a2a6000d-4864-433e-8486-e8961181b5fc",
   "metadata": {},
   "source": [
    "Besides `LST`, the spectral indices `NDWI`, `NDVI` and `NDBI` must be extracted for 2014 and 2022 for LCZ classification support. \n",
    "Those indices are not needed for every picture processed since especially the single images are used to control and compare LST varations on different days.\n",
    "Therefore, the two processing functions `conduct_processing` where the image gets rescaled, reprojected, the spectral indices calculated and LST extracted and `extract_LST` where the image gets rescaled, reprojected and the LST extracted without spectral indices being calculated was written.\n",
    "This approach saves processing power and time."
   ]
  },
  {
   "cell_type": "markdown",
   "id": "f33d62a5-87f4-47f2-ad8b-457d0bde6b48",
   "metadata": {},
   "source": [
    "### 2014"
   ]
  },
  {
   "cell_type": "markdown",
   "id": "add43a7b-5b95-45f3-b6f6-8379aeb71f10",
   "metadata": {},
   "source": [
    "**Heatwave**"
   ]
  },
  {
   "cell_type": "code",
   "execution_count": 55,
   "id": "5be68183-25a2-4e54-9979-998f0e6fd5f9",
   "metadata": {},
   "outputs": [
    {
     "data": {
      "text/html": [
       "\n",
       "            <style>\n",
       "                .geemap-dark {\n",
       "                    --jp-widgets-color: white;\n",
       "                    --jp-widgets-label-color: white;\n",
       "                    --jp-ui-font-color1: white;\n",
       "                    --jp-layout-color2: #454545;\n",
       "                    background-color: #383838;\n",
       "                }\n",
       "\n",
       "                .geemap-dark .jupyter-button {\n",
       "                    --jp-layout-color3: #383838;\n",
       "                }\n",
       "\n",
       "                .geemap-colab {\n",
       "                    background-color: var(--colab-primary-surface-color, white);\n",
       "                }\n",
       "\n",
       "                .geemap-colab .jupyter-button {\n",
       "                    --jp-layout-color3: var(--colab-primary-surface-color, white);\n",
       "                }\n",
       "            </style>\n",
       "            "
      ],
      "text/plain": [
       "<IPython.core.display.HTML object>"
      ]
     },
     "metadata": {},
     "output_type": "display_data"
    },
    {
     "name": "stdout",
     "output_type": "stream",
     "text": [
      "Processing for 2014 heatwave single image started ...\n",
      "\n",
      "Image rescaled\n",
      "Image reprojected: {'type': 'Projection', 'crs': 'EPSG:3301', 'transform': [30, 0, 0, 0, -30, 0]}\n",
      "Land surface temperature extracted\n",
      "On the 2014-08-03 the minimum land surface temperature was -9.25, the maximum was 51.53 and the mean was 27.53 °C\n",
      "True color composite prepared\n",
      "\n",
      "Processing finished\n",
      "\n"
     ]
    }
   ],
   "source": [
    "# for 2014 heatwave single image using extract_lst\n",
    "print('Processing for 2014 heatwave single image started ...\\n')\n",
    "image_2014_08_03_rscld, LST_2014_08_03 = extract_LST(image_2014_08_03)\n",
    "print('\\nProcessing finished\\n')"
   ]
  },
  {
   "cell_type": "code",
   "execution_count": 56,
   "id": "dbf498d2-babc-445a-8725-8018909985e4",
   "metadata": {},
   "outputs": [
    {
     "data": {
      "text/html": [
       "\n",
       "            <style>\n",
       "                .geemap-dark {\n",
       "                    --jp-widgets-color: white;\n",
       "                    --jp-widgets-label-color: white;\n",
       "                    --jp-ui-font-color1: white;\n",
       "                    --jp-layout-color2: #454545;\n",
       "                    background-color: #383838;\n",
       "                }\n",
       "\n",
       "                .geemap-dark .jupyter-button {\n",
       "                    --jp-layout-color3: #383838;\n",
       "                }\n",
       "\n",
       "                .geemap-colab {\n",
       "                    background-color: var(--colab-primary-surface-color, white);\n",
       "                }\n",
       "\n",
       "                .geemap-colab .jupyter-button {\n",
       "                    --jp-layout-color3: var(--colab-primary-surface-color, white);\n",
       "                }\n",
       "            </style>\n",
       "            "
      ],
      "text/plain": [
       "<IPython.core.display.HTML object>"
      ]
     },
     "metadata": {},
     "output_type": "display_data"
    },
    {
     "name": "stdout",
     "output_type": "stream",
     "text": [
      "Processing for 2014 heatwave mosaic started ...\n",
      "\n",
      "Image rescaled\n",
      "Image reprojected: {'type': 'Projection', 'crs': 'EPSG:3301', 'transform': [30, 0, 0, 0, -30, 0]}\n",
      "NDVI calculated\n",
      "NDWI calculated\n",
      "NDBI calculated\n",
      "Land surface temperature extracted\n",
      "On the None the minimum land surface temperature was -5.45, the maximum was 60.14 and the mean was 27.49 °C\n",
      "True color composite prepared\n",
      "\n",
      "Processing finished\n",
      "\n"
     ]
    }
   ],
   "source": [
    "# for 2014 heatwave mosaic using conduct_processing\n",
    "print('Processing for 2014 heatwave mosaic started ...\\n')\n",
    "mosaic_2014_07_25_rscld, NDVI_2014_07_25, NDWI_2014_07_25, NDBI_2014_07_25, LST_2014_07_25 = conduct_processing(mosaic_2014_07_25)\n",
    "print('\\nProcessing finished\\n')"
   ]
  },
  {
   "cell_type": "markdown",
   "id": "188c8359-09b3-4f29-b301-f6eeff6ba6a1",
   "metadata": {},
   "source": [
    "**No Heatwave**"
   ]
  },
  {
   "cell_type": "code",
   "execution_count": 57,
   "id": "b56676f1-70ae-4f24-a777-14b8e7604015",
   "metadata": {},
   "outputs": [
    {
     "data": {
      "text/html": [
       "\n",
       "            <style>\n",
       "                .geemap-dark {\n",
       "                    --jp-widgets-color: white;\n",
       "                    --jp-widgets-label-color: white;\n",
       "                    --jp-ui-font-color1: white;\n",
       "                    --jp-layout-color2: #454545;\n",
       "                    background-color: #383838;\n",
       "                }\n",
       "\n",
       "                .geemap-dark .jupyter-button {\n",
       "                    --jp-layout-color3: #383838;\n",
       "                }\n",
       "\n",
       "                .geemap-colab {\n",
       "                    background-color: var(--colab-primary-surface-color, white);\n",
       "                }\n",
       "\n",
       "                .geemap-colab .jupyter-button {\n",
       "                    --jp-layout-color3: var(--colab-primary-surface-color, white);\n",
       "                }\n",
       "            </style>\n",
       "            "
      ],
      "text/plain": [
       "<IPython.core.display.HTML object>"
      ]
     },
     "metadata": {},
     "output_type": "display_data"
    },
    {
     "name": "stdout",
     "output_type": "stream",
     "text": [
      "Processing for 2014 non heatwave mosaic started ...\n",
      "\n",
      "Image rescaled\n",
      "Image reprojected: {'type': 'Projection', 'crs': 'EPSG:3301', 'transform': [30, 0, 0, 0, -30, 0]}\n",
      "NDVI calculated\n",
      "NDWI calculated\n",
      "NDBI calculated\n",
      "Land surface temperature extracted\n",
      "On the None the minimum land surface temperature was -49.73, the maximum was 58.05 and the mean was 18.87 °C\n",
      "True color composite prepared\n",
      "\n",
      "Processing finished\n",
      "\n"
     ]
    }
   ],
   "source": [
    "# for 2014 non heatwave mosaic using condcut_processing\n",
    "print('Processing for 2014 non heatwave mosaic started ...\\n')\n",
    "mosaic_2014_05_22_rscld, NDVI_2014_05_22, NDWI_2014_05_22, NDBI_2014_05_22, LST_2014_05_22 = conduct_processing(mosaic_2014_05_22)\n",
    "print('\\nProcessing finished\\n')"
   ]
  },
  {
   "cell_type": "markdown",
   "id": "f84922e2-5860-49e8-969d-8507392267c5",
   "metadata": {},
   "source": [
    "### 2022"
   ]
  },
  {
   "cell_type": "markdown",
   "id": "df84b058-9b37-4560-8557-97186622ea2d",
   "metadata": {},
   "source": [
    "**Heatwave**"
   ]
  },
  {
   "cell_type": "code",
   "execution_count": 58,
   "id": "aebefccf-27b3-4c0b-a980-660104bc1005",
   "metadata": {},
   "outputs": [
    {
     "data": {
      "text/html": [
       "\n",
       "            <style>\n",
       "                .geemap-dark {\n",
       "                    --jp-widgets-color: white;\n",
       "                    --jp-widgets-label-color: white;\n",
       "                    --jp-ui-font-color1: white;\n",
       "                    --jp-layout-color2: #454545;\n",
       "                    background-color: #383838;\n",
       "                }\n",
       "\n",
       "                .geemap-dark .jupyter-button {\n",
       "                    --jp-layout-color3: #383838;\n",
       "                }\n",
       "\n",
       "                .geemap-colab {\n",
       "                    background-color: var(--colab-primary-surface-color, white);\n",
       "                }\n",
       "\n",
       "                .geemap-colab .jupyter-button {\n",
       "                    --jp-layout-color3: var(--colab-primary-surface-color, white);\n",
       "                }\n",
       "            </style>\n",
       "            "
      ],
      "text/plain": [
       "<IPython.core.display.HTML object>"
      ]
     },
     "metadata": {},
     "output_type": "display_data"
    },
    {
     "name": "stdout",
     "output_type": "stream",
     "text": [
      "Processing for 2022 heatwave mosaic started ...\n",
      "\n",
      "Image rescaled\n",
      "Image reprojected: {'type': 'Projection', 'crs': 'EPSG:3301', 'transform': [30, 0, 0, 0, -30, 0]}\n",
      "NDVI calculated\n",
      "NDWI calculated\n",
      "NDBI calculated\n",
      "Land surface temperature extracted\n",
      "On the None the minimum land surface temperature was -84.12, the maximum was 62.69 and the mean was 23.09 °C\n",
      "True color composite prepared\n",
      "\n",
      "Processing finished\n",
      "\n"
     ]
    }
   ],
   "source": [
    "# for 2022 heatwave mosaic using conduct_processing\n",
    "print('Processing for 2022 heatwave mosaic started ...\\n')\n",
    "mosaic_2022_08_16_rscld, NDVI_2022_08_16, NDWI_2022_08_16, NDBI_2022_08_16, LST_2022_08_16 = conduct_processing(mosaic_2022_08_16)\n",
    "print('\\nProcessing finished\\n')"
   ]
  },
  {
   "cell_type": "markdown",
   "id": "f3b94ac2-2e9e-4596-9e1b-0d1d9323a53a",
   "metadata": {},
   "source": [
    "**No Heatwave**"
   ]
  },
  {
   "cell_type": "code",
   "execution_count": 59,
   "id": "6d29e030-79bb-4052-8028-31f7c166bcf1",
   "metadata": {},
   "outputs": [
    {
     "data": {
      "text/html": [
       "\n",
       "            <style>\n",
       "                .geemap-dark {\n",
       "                    --jp-widgets-color: white;\n",
       "                    --jp-widgets-label-color: white;\n",
       "                    --jp-ui-font-color1: white;\n",
       "                    --jp-layout-color2: #454545;\n",
       "                    background-color: #383838;\n",
       "                }\n",
       "\n",
       "                .geemap-dark .jupyter-button {\n",
       "                    --jp-layout-color3: #383838;\n",
       "                }\n",
       "\n",
       "                .geemap-colab {\n",
       "                    background-color: var(--colab-primary-surface-color, white);\n",
       "                }\n",
       "\n",
       "                .geemap-colab .jupyter-button {\n",
       "                    --jp-layout-color3: var(--colab-primary-surface-color, white);\n",
       "                }\n",
       "            </style>\n",
       "            "
      ],
      "text/plain": [
       "<IPython.core.display.HTML object>"
      ]
     },
     "metadata": {},
     "output_type": "display_data"
    },
    {
     "name": "stdout",
     "output_type": "stream",
     "text": [
      "Processing for 2022 non heatwave single image started ...\n",
      "\n",
      "Image rescaled\n",
      "Image reprojected: {'type': 'Projection', 'crs': 'EPSG:3301', 'transform': [30, 0, 0, 0, -30, 0]}\n",
      "Land surface temperature extracted\n",
      "On the 2022-05-21 the minimum land surface temperature was -27.2, the maximum was 37.97 and the mean was 10.86 °C\n",
      "True color composite prepared\n",
      "Image rescaled\n",
      "Image reprojected: {'type': 'Projection', 'crs': 'EPSG:3301', 'transform': [30, 0, 0, 0, -30, 0]}\n",
      "Land surface temperature extracted\n",
      "On the 2022-06-06 the minimum land surface temperature was -63.63, the maximum was 45.28 and the mean was 15.31 °C\n",
      "True color composite prepared\n",
      "\n",
      "Processing finished\n",
      "\n"
     ]
    }
   ],
   "source": [
    "# for 2022 non heatwave single images using extract_lst\n",
    "print('Processing for 2022 non heatwave single image started ...\\n')\n",
    "image_2022_05_21_rscld, LST_2022_05_21 = extract_LST(image_2022_05_21)\n",
    "image_2022_06_06_rscld, LST_2022_06_06 = extract_LST(image_2022_06_06)\n",
    "print('\\nProcessing finished\\n')"
   ]
  },
  {
   "cell_type": "markdown",
   "id": "3c8a25c5-2c03-447d-ad25-f05da463fd2e",
   "metadata": {
    "jp-MarkdownHeadingCollapsed": true
   },
   "source": [
    "## Visualization"
   ]
  },
  {
   "cell_type": "code",
   "execution_count": 29,
   "id": "5f1fd30e-30a1-4f32-bb2a-a2700b9daf78",
   "metadata": {},
   "outputs": [
    {
     "data": {
      "text/html": [
       "\n",
       "            <style>\n",
       "                .geemap-dark {\n",
       "                    --jp-widgets-color: white;\n",
       "                    --jp-widgets-label-color: white;\n",
       "                    --jp-ui-font-color1: white;\n",
       "                    --jp-layout-color2: #454545;\n",
       "                    background-color: #383838;\n",
       "                }\n",
       "\n",
       "                .geemap-dark .jupyter-button {\n",
       "                    --jp-layout-color3: #383838;\n",
       "                }\n",
       "\n",
       "                .geemap-colab {\n",
       "                    background-color: var(--colab-primary-surface-color, white);\n",
       "                }\n",
       "\n",
       "                .geemap-colab .jupyter-button {\n",
       "                    --jp-layout-color3: var(--colab-primary-surface-color, white);\n",
       "                }\n",
       "            </style>\n",
       "            "
      ],
      "text/plain": [
       "<IPython.core.display.HTML object>"
      ]
     },
     "metadata": {},
     "output_type": "display_data"
    },
    {
     "data": {
      "application/vnd.jupyter.widget-view+json": {
       "model_id": "4550159a181542a5ad0ec86717473edf",
       "version_major": 2,
       "version_minor": 0
      },
      "text/plain": [
       "Map(center=[59.430752, 24.751965], controls=(WidgetControl(options=['position', 'transparent_bg'], widget=Sear…"
      ]
     },
     "execution_count": 29,
     "metadata": {},
     "output_type": "execute_result"
    }
   ],
   "source": [
    "processed_map = geemap.Map(center = [59.430752, 24.751965], zoom =11)\n",
    "\n",
    "# 2014 #\n",
    "\n",
    "processed_map.add_layer(NDVI_2014_07_25, {'min': -1, 'max': 1, 'palette': ['f7fcf5', 'e5f5e0', 'c7e9c0', 'a1d99b', '74c476', '41ab5d', '238b45', '006d2c', '00441b']}, \"NDVI 2014\" )\n",
    "processed_map.add_layer(NDWI_2014_07_25, {'min': -1, 'max': 1,'palette': ['f7fbff', 'deebf7', 'c6dbef', '9ecae1', '6baed6', '4292c6', '2171b5', '08519c', '08306b']}, \"NDWI 2014\")\n",
    "processed_map.add_layer(NDBI_2014_07_25, {'min': -1, 'max': 1, 'palette': ['ffffe5', 'fff7bc', 'fee391', 'fec44f', 'fe9929', 'ec7014', 'cc4c02', '993404', '662506']}, \"NDBI 2014\")\n",
    "processed_map.add_layer(LST_2014_07_25, {'min': -9.25, 'max': 51.53, 'palette': ['#0000FF', '#3366FF', '#6699FF', '#99CCFF', '#CCFFFF', '#FFFF99', '#FFCC66', '#FF9933', '#FF3300', '#FF0000']}, \"LST 2014\")\n",
    "\n",
    "# 2022 #\n",
    "\n",
    "processed_map.add_layer(NDVI_2022_08_16, {'min': -1, 'max': 1, 'palette': ['f7fcf5', 'e5f5e0', 'c7e9c0', 'a1d99b', '74c476', '41ab5d', '238b45', '006d2c', '00441b']}, \"NDVI 2022\" )\n",
    "processed_map.add_layer(NDWI_2022_08_16, {'min': -1, 'max': 1,'palette': ['f7fbff', 'deebf7', 'c6dbef', '9ecae1', '6baed6', '4292c6', '2171b5', '08519c', '08306b']}, \"NDWI 2022\")\n",
    "processed_map.add_layer(NDBI_2022_08_16, {'min': -1, 'max': 1, 'palette': ['ffffe5', 'fff7bc', 'fee391', 'fec44f', 'fe9929', 'ec7014', 'cc4c02', '993404', '662506']}, \"NDBI 2022\")\n",
    "processed_map.add_layer(LST_2022_08_16, {'min': -9.25, 'max': 51.53, 'palette': ['#0000FF', '#3366FF', '#6699FF', '#99CCFF', '#CCFFFF', '#FFFF99', '#FFCC66', '#FF9933', '#FF3300', '#FF0000']}, \"LST 2022\")\n",
    "\n",
    "processed_map"
   ]
  },
  {
   "cell_type": "code",
   "execution_count": 40,
   "id": "7e2364c5-d70d-4198-9e95-36ae631854ef",
   "metadata": {},
   "outputs": [
    {
     "data": {
      "text/html": [
       "\n",
       "            <style>\n",
       "                .geemap-dark {\n",
       "                    --jp-widgets-color: white;\n",
       "                    --jp-widgets-label-color: white;\n",
       "                    --jp-ui-font-color1: white;\n",
       "                    --jp-layout-color2: #454545;\n",
       "                    background-color: #383838;\n",
       "                }\n",
       "\n",
       "                .geemap-dark .jupyter-button {\n",
       "                    --jp-layout-color3: #383838;\n",
       "                }\n",
       "\n",
       "                .geemap-colab {\n",
       "                    background-color: var(--colab-primary-surface-color, white);\n",
       "                }\n",
       "\n",
       "                .geemap-colab .jupyter-button {\n",
       "                    --jp-layout-color3: var(--colab-primary-surface-color, white);\n",
       "                }\n",
       "            </style>\n",
       "            "
      ],
      "text/plain": [
       "<IPython.core.display.HTML object>"
      ]
     },
     "metadata": {},
     "output_type": "display_data"
    },
    {
     "data": {
      "application/vnd.jupyter.widget-view+json": {
       "model_id": "71cca2ad3d664778830bdb8165d00b23",
       "version_major": 2,
       "version_minor": 0
      },
      "text/plain": [
       "Map(center=[59.430752, 24.751965], controls=(WidgetControl(options=['position', 'transparent_bg'], widget=Sear…"
      ]
     },
     "execution_count": 40,
     "metadata": {},
     "output_type": "execute_result"
    }
   ],
   "source": [
    "lst_map = geemap.Map(center = [59.430752, 24.751965], zoom =11)\n",
    "\n",
    "# 2014 #\n",
    "lst_map.add_layer(LST_2014_07_25, {'min': 15, 'max': 63, 'palette': ['#0000FF', '#3366FF', '#6699FF', '#99CCFF', '#CCFFFF', '#FFFF99', '#FFCC66', '#FF9933', '#FF3300', '#FF0000']}, \"hw 2014-07-25\")\n",
    "lst_map.add_layer(LST_2014_08_03, {'min': 15, 'max': 63, 'palette': ['#0000FF', '#3366FF', '#6699FF', '#99CCFF', '#CCFFFF', '#FFFF99', '#FFCC66', '#FF9933', '#FF3300', '#FF0000']}, \"hw 2014-08-03\")\n",
    "lst_map.add_layer(LST_2014_05_22, {'min': 15, 'max': 63, 'palette': ['#0000FF', '#3366FF', '#6699FF', '#99CCFF', '#CCFFFF', '#FFFF99', '#FFCC66', '#FF9933', '#FF3300', '#FF0000']}, \"no hw 2014-05-22\")\n",
    "\n",
    "# 2022 #\n",
    "lst_map.add_layer(LST_2022_08_16, {'min': 15, 'max': 63, 'palette': ['#0000FF', '#3366FF', '#6699FF', '#99CCFF', '#CCFFFF', '#FFFF99', '#FFCC66', '#FF9933', '#FF3300', '#FF0000']}, \"hw 2022-08-16\")\n",
    "lst_map.add_layer(LST_2022_05_21, {'min': 15, 'max': 63, 'palette': ['#0000FF', '#3366FF', '#6699FF', '#99CCFF', '#CCFFFF', '#FFFF99', '#FFCC66', '#FF9933', '#FF3300', '#FF0000']}, \"no hw 2022-05-21\")\n",
    "lst_map.add_layer(LST_2022_06_06, {'min': 15, 'max': 63, 'palette': ['#0000FF', '#3366FF', '#6699FF', '#99CCFF', '#CCFFFF', '#FFFF99', '#FFCC66', '#FF9933', '#FF3300', '#FF0000']}, \"no hw 2022-06-06\")\n",
    "\n",
    "lst_map.add_layer(tallinn, {}, \"Tallinn boundary\")\n",
    "\n",
    "lst_map"
   ]
  },
  {
   "cell_type": "markdown",
   "id": "b638e1cc-9674-48dc-a9c2-b4445a9874ea",
   "metadata": {},
   "source": [
    "## Export"
   ]
  },
  {
   "cell_type": "code",
   "execution_count": 42,
   "id": "c37e52b3-2fb9-4476-9159-f2c458e1ab6d",
   "metadata": {},
   "outputs": [
    {
     "data": {
      "text/html": [
       "\n",
       "            <style>\n",
       "                .geemap-dark {\n",
       "                    --jp-widgets-color: white;\n",
       "                    --jp-widgets-label-color: white;\n",
       "                    --jp-ui-font-color1: white;\n",
       "                    --jp-layout-color2: #454545;\n",
       "                    background-color: #383838;\n",
       "                }\n",
       "\n",
       "                .geemap-dark .jupyter-button {\n",
       "                    --jp-layout-color3: #383838;\n",
       "                }\n",
       "\n",
       "                .geemap-colab {\n",
       "                    background-color: var(--colab-primary-surface-color, white);\n",
       "                }\n",
       "\n",
       "                .geemap-colab .jupyter-button {\n",
       "                    --jp-layout-color3: var(--colab-primary-surface-color, white);\n",
       "                }\n",
       "            </style>\n",
       "            "
      ],
      "text/plain": [
       "<IPython.core.display.HTML object>"
      ]
     },
     "metadata": {},
     "output_type": "display_data"
    }
   ],
   "source": [
    "scale_value = 30\n",
    "region_geometry = extent.geometry().bounds()"
   ]
  },
  {
   "cell_type": "code",
   "execution_count": 60,
   "id": "e0b8be7c-03b0-48d8-a84f-f06d1b290be4",
   "metadata": {},
   "outputs": [
    {
     "data": {
      "text/html": [
       "\n",
       "            <style>\n",
       "                .geemap-dark {\n",
       "                    --jp-widgets-color: white;\n",
       "                    --jp-widgets-label-color: white;\n",
       "                    --jp-ui-font-color1: white;\n",
       "                    --jp-layout-color2: #454545;\n",
       "                    background-color: #383838;\n",
       "                }\n",
       "\n",
       "                .geemap-dark .jupyter-button {\n",
       "                    --jp-layout-color3: #383838;\n",
       "                }\n",
       "\n",
       "                .geemap-colab {\n",
       "                    background-color: var(--colab-primary-surface-color, white);\n",
       "                }\n",
       "\n",
       "                .geemap-colab .jupyter-button {\n",
       "                    --jp-layout-color3: var(--colab-primary-surface-color, white);\n",
       "                }\n",
       "            </style>\n",
       "            "
      ],
      "text/plain": [
       "<IPython.core.display.HTML object>"
      ]
     },
     "metadata": {},
     "output_type": "display_data"
    },
    {
     "name": "stdout",
     "output_type": "stream",
     "text": [
      "Export started for image_2014_08_03\n",
      "Export started for LST_2014_08_03_hw\n"
     ]
    }
   ],
   "source": [
    "# for 2014 heatwave single image #\n",
    "\n",
    "# List of images and corresponding descriptions\n",
    "image_list = [image_2014_08_03_rscld, LST_2014_08_03]\n",
    "description_list = [\"image_2014_08_03\", \"LST_2014_08_03_hw\"]\n",
    "\n",
    "# Call the function\n",
    "folder_name = \"lst_2014_08_03_hw\"\n",
    "export_images_to_drive(image_list, description_list, folder_name, scale_value, region_geometry)"
   ]
  },
  {
   "cell_type": "code",
   "execution_count": 61,
   "id": "a1676a52-66f6-48ef-bd71-fb5f34983961",
   "metadata": {},
   "outputs": [
    {
     "data": {
      "text/html": [
       "\n",
       "            <style>\n",
       "                .geemap-dark {\n",
       "                    --jp-widgets-color: white;\n",
       "                    --jp-widgets-label-color: white;\n",
       "                    --jp-ui-font-color1: white;\n",
       "                    --jp-layout-color2: #454545;\n",
       "                    background-color: #383838;\n",
       "                }\n",
       "\n",
       "                .geemap-dark .jupyter-button {\n",
       "                    --jp-layout-color3: #383838;\n",
       "                }\n",
       "\n",
       "                .geemap-colab {\n",
       "                    background-color: var(--colab-primary-surface-color, white);\n",
       "                }\n",
       "\n",
       "                .geemap-colab .jupyter-button {\n",
       "                    --jp-layout-color3: var(--colab-primary-surface-color, white);\n",
       "                }\n",
       "            </style>\n",
       "            "
      ],
      "text/plain": [
       "<IPython.core.display.HTML object>"
      ]
     },
     "metadata": {},
     "output_type": "display_data"
    },
    {
     "name": "stdout",
     "output_type": "stream",
     "text": [
      "Export started for mosaic_2014_07_25\n",
      "Export started for NDVI_2014_07_25_hw\n",
      "Export started for NDWI_2014_07_25_hw\n",
      "Export started for NDBI_2014_07_25_hw\n",
      "Export started for LST_2014_07_25_hw\n"
     ]
    }
   ],
   "source": [
    "# for 2014 heatwave mosaic #\n",
    "\n",
    "# List of images and corresponding descriptions\n",
    "image_list = [mosaic_2014_07_25_rscld, NDVI_2014_07_25, NDWI_2014_07_25, NDBI_2014_07_25, LST_2014_07_25]\n",
    "description_list = [\"mosaic_2014_07_25\", \"NDVI_2014_07_25_hw\", \"NDWI_2014_07_25_hw\", \"NDBI_2014_07_25_hw\", \"LST_2014_07_25_hw\"]\n",
    "\n",
    "# Call the function\n",
    "folder_name = \"si+lst_2014_07_25_hw\"\n",
    "export_images_to_drive(image_list, description_list, folder_name, scale_value, region_geometry)"
   ]
  },
  {
   "cell_type": "code",
   "execution_count": 62,
   "id": "abe5bf52-8e37-4025-95a8-eac3272c20b1",
   "metadata": {},
   "outputs": [
    {
     "data": {
      "text/html": [
       "\n",
       "            <style>\n",
       "                .geemap-dark {\n",
       "                    --jp-widgets-color: white;\n",
       "                    --jp-widgets-label-color: white;\n",
       "                    --jp-ui-font-color1: white;\n",
       "                    --jp-layout-color2: #454545;\n",
       "                    background-color: #383838;\n",
       "                }\n",
       "\n",
       "                .geemap-dark .jupyter-button {\n",
       "                    --jp-layout-color3: #383838;\n",
       "                }\n",
       "\n",
       "                .geemap-colab {\n",
       "                    background-color: var(--colab-primary-surface-color, white);\n",
       "                }\n",
       "\n",
       "                .geemap-colab .jupyter-button {\n",
       "                    --jp-layout-color3: var(--colab-primary-surface-color, white);\n",
       "                }\n",
       "            </style>\n",
       "            "
      ],
      "text/plain": [
       "<IPython.core.display.HTML object>"
      ]
     },
     "metadata": {},
     "output_type": "display_data"
    },
    {
     "name": "stdout",
     "output_type": "stream",
     "text": [
      "Export started for mosaic_2014_05_22\n",
      "Export started for NDVI_2014_05_22_nhw\n",
      "Export started for NDWI_2014_05_22_nhw\n",
      "Export started for NDBI_2014_05_22_nhw\n",
      "Export started for LST_2014_05_22_nhw\n"
     ]
    }
   ],
   "source": [
    "# for 2014 no heatwave mosaic #\n",
    "\n",
    "# List of images and corresponding descriptions\n",
    "image_list = [mosaic_2014_05_22_rscld, NDVI_2014_05_22, NDWI_2014_05_22, NDBI_2014_05_22, LST_2014_05_22]\n",
    "description_list = [\"mosaic_2014_05_22\", \"NDVI_2014_05_22_nhw\", \"NDWI_2014_05_22_nhw\", \"NDBI_2014_05_22_nhw\", \"LST_2014_05_22_nhw\"]\n",
    "\n",
    "# Call the function\n",
    "folder_name = \"si+lst_2014_05_22_nhw\"\n",
    "export_images_to_drive(image_list, description_list, folder_name, scale_value, region_geometry)"
   ]
  },
  {
   "cell_type": "code",
   "execution_count": 63,
   "id": "0fd6c6b5-b3a7-4c7d-9dca-33946572e266",
   "metadata": {},
   "outputs": [
    {
     "data": {
      "text/html": [
       "\n",
       "            <style>\n",
       "                .geemap-dark {\n",
       "                    --jp-widgets-color: white;\n",
       "                    --jp-widgets-label-color: white;\n",
       "                    --jp-ui-font-color1: white;\n",
       "                    --jp-layout-color2: #454545;\n",
       "                    background-color: #383838;\n",
       "                }\n",
       "\n",
       "                .geemap-dark .jupyter-button {\n",
       "                    --jp-layout-color3: #383838;\n",
       "                }\n",
       "\n",
       "                .geemap-colab {\n",
       "                    background-color: var(--colab-primary-surface-color, white);\n",
       "                }\n",
       "\n",
       "                .geemap-colab .jupyter-button {\n",
       "                    --jp-layout-color3: var(--colab-primary-surface-color, white);\n",
       "                }\n",
       "            </style>\n",
       "            "
      ],
      "text/plain": [
       "<IPython.core.display.HTML object>"
      ]
     },
     "metadata": {},
     "output_type": "display_data"
    },
    {
     "name": "stdout",
     "output_type": "stream",
     "text": [
      "Export started for mosaic_2022_08_16\n",
      "Export started for NDVI_2022_08_16_hw\n",
      "Export started for NDWI_2022_08_16_hw\n",
      "Export started for NDBI_2022_08_16_hw\n",
      "Export started for LST_2022_08_16_hw\n"
     ]
    }
   ],
   "source": [
    "# for 2022 heatwave mosaic #\n",
    "\n",
    "# List of images and corresponding descriptions\n",
    "image_list = [mosaic_2022_08_16_rscld, NDVI_2022_08_16, NDWI_2022_08_16, NDBI_2022_08_16, LST_2022_08_16]\n",
    "description_list = [\"mosaic_2022_08_16\", \"NDVI_2022_08_16_hw\", \"NDWI_2022_08_16_hw\", \"NDBI_2022_08_16_hw\", \"LST_2022_08_16_hw\"]\n",
    "\n",
    "# Call the function\n",
    "folder_name = \"si+lst_2022_08_16_hw\"\n",
    "export_images_to_drive(image_list, description_list, folder_name, scale_value, region_geometry)"
   ]
  },
  {
   "cell_type": "code",
   "execution_count": 64,
   "id": "6a24c9b5-b76c-45a2-910f-bf3357c46dc6",
   "metadata": {},
   "outputs": [
    {
     "data": {
      "text/html": [
       "\n",
       "            <style>\n",
       "                .geemap-dark {\n",
       "                    --jp-widgets-color: white;\n",
       "                    --jp-widgets-label-color: white;\n",
       "                    --jp-ui-font-color1: white;\n",
       "                    --jp-layout-color2: #454545;\n",
       "                    background-color: #383838;\n",
       "                }\n",
       "\n",
       "                .geemap-dark .jupyter-button {\n",
       "                    --jp-layout-color3: #383838;\n",
       "                }\n",
       "\n",
       "                .geemap-colab {\n",
       "                    background-color: var(--colab-primary-surface-color, white);\n",
       "                }\n",
       "\n",
       "                .geemap-colab .jupyter-button {\n",
       "                    --jp-layout-color3: var(--colab-primary-surface-color, white);\n",
       "                }\n",
       "            </style>\n",
       "            "
      ],
      "text/plain": [
       "<IPython.core.display.HTML object>"
      ]
     },
     "metadata": {},
     "output_type": "display_data"
    },
    {
     "name": "stdout",
     "output_type": "stream",
     "text": [
      "Export started for image_2022_05_21\n",
      "Export started for LST_2022_05_21_nhw\n"
     ]
    }
   ],
   "source": [
    "# for 2022 first no heatwave image #\n",
    "\n",
    "# List of images and corresponding descriptions\n",
    "image_list = [image_2022_05_21_rscld, LST_2022_05_21]\n",
    "description_list = [\"image_2022_05_21\", \"LST_2022_05_21_nhw\"]\n",
    "\n",
    "# Call the function\n",
    "folder_name = \"lst_2022_05_21_nhw\"\n",
    "export_images_to_drive(image_list, description_list, folder_name, scale_value, region_geometry)"
   ]
  },
  {
   "cell_type": "code",
   "execution_count": 65,
   "id": "93bcae43-5e01-4c03-b9c0-92aeae9dd9dc",
   "metadata": {},
   "outputs": [
    {
     "data": {
      "text/html": [
       "\n",
       "            <style>\n",
       "                .geemap-dark {\n",
       "                    --jp-widgets-color: white;\n",
       "                    --jp-widgets-label-color: white;\n",
       "                    --jp-ui-font-color1: white;\n",
       "                    --jp-layout-color2: #454545;\n",
       "                    background-color: #383838;\n",
       "                }\n",
       "\n",
       "                .geemap-dark .jupyter-button {\n",
       "                    --jp-layout-color3: #383838;\n",
       "                }\n",
       "\n",
       "                .geemap-colab {\n",
       "                    background-color: var(--colab-primary-surface-color, white);\n",
       "                }\n",
       "\n",
       "                .geemap-colab .jupyter-button {\n",
       "                    --jp-layout-color3: var(--colab-primary-surface-color, white);\n",
       "                }\n",
       "            </style>\n",
       "            "
      ],
      "text/plain": [
       "<IPython.core.display.HTML object>"
      ]
     },
     "metadata": {},
     "output_type": "display_data"
    },
    {
     "name": "stdout",
     "output_type": "stream",
     "text": [
      "Export started for image_2022_06_06\n",
      "Export started for LST_2022_06_06_nhw\n"
     ]
    }
   ],
   "source": [
    "# for 2022 second no heatwave image #\n",
    "\n",
    "# List of images and corresponding descriptions\n",
    "image_list = [image_2022_06_06_rscld, LST_2022_06_06]\n",
    "description_list = [\"image_2022_06_06\", \"LST_2022_06_06_nhw\"]\n",
    "\n",
    "# Call the function\n",
    "folder_name = \"lst_2022_06_06_nhw\"\n",
    "export_images_to_drive(image_list, description_list, folder_name, scale_value, region_geometry)"
   ]
  },
  {
   "cell_type": "raw",
   "id": "476a127e-d8f5-48d7-8019-b7579c98b74b",
   "metadata": {},
   "source": [
    "!jupyter nbconvert --to html --output={'first_processing_Moritz_Mühlbauer.html'} first_processing_Moritz_Mühlbauer.ipynb"
   ]
  },
  {
   "cell_type": "markdown",
   "id": "db47aaab-a95f-45e3-9b8c-c08ecf821127",
   "metadata": {},
   "source": [
    "This workflow can be easily adapted to fit new requirements (change dates of examination to heatwave days, apply functions to new satellite tiles) and expanded (statistics, raster overlay). API streamed satellite images can be safed locally for visualization QGIS or further processing."
   ]
  }
 ],
 "metadata": {
  "kernelspec": {
   "display_name": "Python 3 (ipykernel)",
   "language": "python",
   "name": "python3"
  },
  "language_info": {
   "codemirror_mode": {
    "name": "ipython",
    "version": 3
   },
   "file_extension": ".py",
   "mimetype": "text/x-python",
   "name": "python",
   "nbconvert_exporter": "python",
   "pygments_lexer": "ipython3",
   "version": "3.11.11"
  }
 },
 "nbformat": 4,
 "nbformat_minor": 5
}
