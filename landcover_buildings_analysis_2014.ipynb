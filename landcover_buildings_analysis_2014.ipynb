{
 "cells": [
  {
   "cell_type": "markdown",
   "id": "1ef15947-24e9-413c-8605-b861e0167383",
   "metadata": {},
   "source": [
    "# Analysis on landcover and building data to support LCZ classification\n",
    "\n",
    "This NOTEBOOK prepares landcover and building data for later usage in any *LCZ-YEAR* NOTEBOOK\n",
    "\n",
    "*landcover_buildings_wrangling.py* contains the functions used in this chapter"
   ]
  },
  {
   "cell_type": "markdown",
   "id": "f6c1aa96-5dd5-4e0f-a19a-60ac20e526e9",
   "metadata": {},
   "source": [
    "**Notebook dependencies**"
   ]
  },
  {
   "cell_type": "code",
   "execution_count": 4,
   "id": "d6f1a1ba-efc0-4b82-9787-b98f55527523",
   "metadata": {},
   "outputs": [],
   "source": [
    "# library import\n",
    "import pandas as pd \n",
    "import geopandas as gpd\n",
    "import pathlib\n",
    "import numpy as np\n",
    "import shapely\n",
    "\n",
    "import rasterio\n",
    "from rasterio import features\n",
    "from rasterio.enums import MergeAlg\n",
    "from rasterio.plot import show\n",
    "from numpy import int16\n",
    "\n",
    "import matplotlib.pyplot as plt\n",
    "import matplotlib.patches as mpatches"
   ]
  },
  {
   "cell_type": "code",
   "execution_count": 5,
   "id": "d6236998-f3eb-4d6f-9daf-584e41db8eae",
   "metadata": {},
   "outputs": [],
   "source": [
    "# Python script import\n",
    "import landcover_buildings_wrangling"
   ]
  },
  {
   "cell_type": "code",
   "execution_count": 6,
   "id": "c9bde527-cad4-43ac-af6b-09d6628e868e",
   "metadata": {},
   "outputs": [],
   "source": [
    "# define year of investigation\n",
    "#year = 2014\n",
    "year = 2022"
   ]
  },
  {
   "cell_type": "code",
   "execution_count": 7,
   "id": "38e32769-2695-47f5-85b7-3f3c53d19d85",
   "metadata": {},
   "outputs": [],
   "source": [
    "# defining relative paths\n",
    "NOTEBOOK_DIRECTORY = pathlib.Path().resolve()\n",
    "\n",
    "DATA_DIRECTORY = NOTEBOOK_DIRECTORY / \"data\" / f\"TLV_{year}\"\n",
    "TABLE_DIRECTORY = NOTEBOOK_DIRECTORY / \"output\" / \"tables\"\n",
    "TEST_DIRECTORY = NOTEBOOK_DIRECTORY / \"test\""
   ]
  },
  {
   "cell_type": "code",
   "execution_count": 5,
   "id": "d56d005f-605f-4014-83ba-743c4c26b4ef",
   "metadata": {},
   "outputs": [],
   "source": [
    "# importing data\n",
    "landcover = gpd.read_file(\n",
    "   DATA_DIRECTORY / f\"landcover_{year}.gpkg\",\n",
    ")\n",
    "\n",
    "#landcover = gpd.read_file('/Users/moritzmuhlbauer/Desktop/landcover_test.gpkg')\n",
    "\n",
    "buildings = gpd.read_file(\n",
    "    DATA_DIRECTORY / f\"buildings_{year}.gpkg\",\n",
    ")\n",
    "\n",
    "grid = gpd.read_file(\n",
    "    '/Users/moritzmuhlbauer/Master Thesis/data/30x30_grid.gpkg'\n",
    ")\n",
    "\n",
    "tallinn = gpd.read_file(\n",
    "    '/Users/moritzmuhlbauer/Master Thesis/data/tallinn_outline/tallinn_dissolved.gpkg',\n",
    "    layer = 'cleaned'\n",
    ")\n",
    "\n",
    "base_raster = rasterio.open('/Users/moritzmuhlbauer/Master Thesis/data/baseline_raster.tif')"
   ]
  },
  {
   "cell_type": "markdown",
   "id": "ee8fa585-a8fa-48f1-bddf-6b6fb101eaa6",
   "metadata": {},
   "source": [
    "## Data Exploration"
   ]
  },
  {
   "cell_type": "code",
   "execution_count": null,
   "id": "4bfe924b-e8f4-49c1-87b5-866399c4ee3e",
   "metadata": {},
   "outputs": [],
   "source": []
  },
  {
   "cell_type": "markdown",
   "id": "527e359b-4912-4013-97e3-55d83c6c7b21",
   "metadata": {
    "tags": []
   },
   "source": [
    "## Pre Processing"
   ]
  },
  {
   "cell_type": "code",
   "execution_count": 6,
   "id": "1fdb9081-3243-4b4e-9949-2916834c4377",
   "metadata": {},
   "outputs": [],
   "source": [
    "# converting 3D geomtry to 2D\n",
    "landcover.geometry = shapely.wkb.loads(\n",
    "        shapely.wkb.dumps(landcover.geometry, output_dimension=2))\n",
    "\n",
    "buildings.geometry = shapely.wkb.loads(\n",
    "        shapely.wkb.dumps(buildings.geometry, output_dimension=2))"
   ]
  },
  {
   "cell_type": "code",
   "execution_count": 7,
   "id": "1ac31181-1708-4e85-9374-d0f0ef974f25",
   "metadata": {},
   "outputs": [],
   "source": [
    "# applying function to format GeoDataFrames\n",
    "buildings, landcover, grid = landcover_buildings_wrangling.formating(buildings, landcover, grid)"
   ]
  },
  {
   "cell_type": "code",
   "execution_count": 8,
   "id": "a449df04-b66c-4cba-b9e9-ea3575a361f9",
   "metadata": {},
   "outputs": [],
   "source": [
    "# cleaning and estimating building height from story number\n",
    "buildings = landcover_buildings_wrangling.clean_buildings(buildings)"
   ]
  },
  {
   "cell_type": "code",
   "execution_count": 9,
   "id": "0d6dbfc3-8b25-444f-9504-28e521d8318b",
   "metadata": {},
   "outputs": [],
   "source": [
    "# applying decrypting function\n",
    "landcover[\"landcover\"], landcover[\"raster_code\"], buildings[\"type\"] = landcover_buildings_wrangling.decrypt(landcover, buildings)"
   ]
  },
  {
   "cell_type": "code",
   "execution_count": 10,
   "id": "6bd1f79e-a7ab-4ab1-bd50-118e8228bdfc",
   "metadata": {},
   "outputs": [],
   "source": [
    "# applying clip function\n",
    "buildings, landcover = landcover_buildings_wrangling.clip(buildings, landcover, tallinn)"
   ]
  },
  {
   "cell_type": "code",
   "execution_count": 11,
   "id": "4936aa92-db2e-472a-970e-a3f66d928bc8",
   "metadata": {},
   "outputs": [],
   "source": [
    "# applying function to extract unique landcovers\n",
    "transportation, as_with_veg, as_without_veg, ns_without_veg, ns_with_veg, water = landcover_buildings_wrangling.landcover_extract(landcover)"
   ]
  },
  {
   "cell_type": "code",
   "execution_count": 12,
   "id": "2cc27854-6258-4cd3-bb17-9451d0d2a54d",
   "metadata": {},
   "outputs": [],
   "source": [
    "# saving layers to gpkg\n",
    "landcover_buildings_wrangling.safe_gpkg(transportation, as_with_veg, as_without_veg, ns_without_veg, ns_with_veg, water, landcover, buildings)"
   ]
  },
  {
   "cell_type": "markdown",
   "id": "f6792995-5908-4aaf-a3f4-42d2b2fad812",
   "metadata": {},
   "source": [
    "**Accuracy + Ratio Assesment** "
   ]
  },
  {
   "cell_type": "code",
   "execution_count": 13,
   "id": "b26a3e2a-a38d-4451-b1d6-a7424708cef4",
   "metadata": {},
   "outputs": [],
   "source": [
    "landcover_list = [transportation, as_with_veg, as_without_veg, ns_without_veg, ns_with_veg]\n",
    "overlay_dict = {}\n",
    "ratio_dict = {}"
   ]
  },
  {
   "cell_type": "code",
   "execution_count": 14,
   "id": "ec1b536d-1639-41e4-a0b4-20b63e72e333",
   "metadata": {},
   "outputs": [],
   "source": [
    "# calculating area of Tallinn\n",
    "tallinn['area'] = tallinn.geometry.area"
   ]
  },
  {
   "cell_type": "code",
   "execution_count": 15,
   "id": "38c90bce-65ba-4a72-adea-a205b747eb2e",
   "metadata": {},
   "outputs": [
    {
     "name": "stderr",
     "output_type": "stream",
     "text": [
      "/Users/moritzmuhlbauer/micromamba/envs/gee/lib/python3.11/site-packages/geopandas/geodataframe.py:1815: FutureWarning: `unary_union` returned None due to all-None GeoSeries. In future, `unary_union` will return 'GEOMETRYCOLLECTION EMPTY' instead.\n",
      "  merged_geom = block.unary_union\n",
      "/Users/moritzmuhlbauer/micromamba/envs/gee/lib/python3.11/site-packages/geopandas/geodataframe.py:1815: FutureWarning: `unary_union` returned None due to all-None GeoSeries. In future, `unary_union` will return 'GEOMETRYCOLLECTION EMPTY' instead.\n",
      "  merged_geom = block.unary_union\n",
      "/Users/moritzmuhlbauer/micromamba/envs/gee/lib/python3.11/site-packages/geopandas/geodataframe.py:1815: FutureWarning: `unary_union` returned None due to all-None GeoSeries. In future, `unary_union` will return 'GEOMETRYCOLLECTION EMPTY' instead.\n",
      "  merged_geom = block.unary_union\n",
      "/Users/moritzmuhlbauer/micromamba/envs/gee/lib/python3.11/site-packages/geopandas/geodataframe.py:1815: FutureWarning: `unary_union` returned None due to all-None GeoSeries. In future, `unary_union` will return 'GEOMETRYCOLLECTION EMPTY' instead.\n",
      "  merged_geom = block.unary_union\n"
     ]
    }
   ],
   "source": [
    "for cover in landcover_list:\n",
    "    intersection = buildings.overlay(cover, how=\"intersection\", keep_geom_type=True).geometry.area.sum() \n",
    "    overlay = ((intersection / (buildings.geometry.area.sum())) * 100).round(2)\n",
    "    overlay_dict.update({cover.iloc[0, 4]: overlay})\n",
    "\n",
    "    cover_area = cover.geometry.area.sum()\n",
    "    ratio = ((cover_area / tallinn.geometry.area.sum()) * 100).round(2)\n",
    "    ratio_dict.update({cover.iloc[0, 4]: ratio})\n",
    "\n",
    "accuracy_df = pd.DataFrame(overlay_dict.items(), columns=['Landcover', 'Buildings-Overlay (%)'])\n",
    "accuracy_df.to_csv(TABLE_DIRECTORY / f'accuracy_assesment_{year}.csv', index=False)\n",
    "\n",
    "ratio_df = pd.DataFrame(ratio_dict.items(), columns=['Landcover', 'Ratio (%)'])\n",
    "ratio_df.to_csv(TABLE_DIRECTORY / f'ratio_entire_tallinn_{year}.csv', index=False)"
   ]
  },
  {
   "cell_type": "markdown",
   "id": "4f6099eb-f6d7-4af8-8d2f-2ebc72db11bc",
   "metadata": {},
   "source": [
    "## Processing"
   ]
  },
  {
   "cell_type": "markdown",
   "id": "a7fac46f-2e6a-423a-b23c-0300903c3462",
   "metadata": {},
   "source": [
    "**Dominant landcover per grid cell**"
   ]
  },
  {
   "cell_type": "code",
   "execution_count": 16,
   "id": "0fa24959-abb2-4fcd-89b4-30ed3174cbce",
   "metadata": {
    "tags": []
   },
   "outputs": [
    {
     "name": "stderr",
     "output_type": "stream",
     "text": [
      "/Users/moritzmuhlbauer/micromamba/envs/gee/lib/python3.11/site-packages/geopandas/geodataframe.py:1815: FutureWarning: `unary_union` returned None due to all-None GeoSeries. In future, `unary_union` will return 'GEOMETRYCOLLECTION EMPTY' instead.\n",
      "  merged_geom = block.unary_union\n",
      "/Users/moritzmuhlbauer/micromamba/envs/gee/lib/python3.11/site-packages/geopandas/geodataframe.py:2469: UserWarning: `keep_geom_type=True` in overlay resulted in 2020 dropped geometries of different geometry types than df1 has. Set `keep_geom_type=False` to retain all geometries\n",
      "  return geopandas.overlay(\n"
     ]
    }
   ],
   "source": [
    "dominant_landcover = landcover_buildings_wrangling.find_dominant_landcover(landcover, grid)"
   ]
  },
  {
   "cell_type": "markdown",
   "id": "08b7e8b3-032b-4bed-b9ef-d5ba335c94df",
   "metadata": {},
   "source": [
    "**Mean building height per grid cell**"
   ]
  },
  {
   "cell_type": "code",
   "execution_count": 17,
   "id": "58a45cc7-b06b-41e6-8f49-e00d3381b756",
   "metadata": {},
   "outputs": [
    {
     "name": "stderr",
     "output_type": "stream",
     "text": [
      "/Users/moritzmuhlbauer/micromamba/envs/gee/lib/python3.11/site-packages/geopandas/geodataframe.py:2469: UserWarning: `keep_geom_type=True` in overlay resulted in 45 dropped geometries of different geometry types than df1 has. Set `keep_geom_type=False` to retain all geometries\n",
      "  return geopandas.overlay(\n"
     ]
    }
   ],
   "source": [
    "mean_building_height = landcover_buildings_wrangling.calculate_mean_building_height(buildings, grid)"
   ]
  },
  {
   "cell_type": "markdown",
   "id": "04a91994-5e09-4dc5-9d03-d8e565669070",
   "metadata": {},
   "source": [
    "**Built fraction per grid cell**"
   ]
  },
  {
   "cell_type": "code",
   "execution_count": 18,
   "id": "28eb7691-c1b4-479e-9c64-66d3dde736e8",
   "metadata": {},
   "outputs": [
    {
     "name": "stderr",
     "output_type": "stream",
     "text": [
      "/Users/moritzmuhlbauer/micromamba/envs/gee/lib/python3.11/site-packages/geopandas/geodataframe.py:2469: UserWarning: `keep_geom_type=True` in overlay resulted in 45 dropped geometries of different geometry types than df1 has. Set `keep_geom_type=False` to retain all geometries\n",
      "  return geopandas.overlay(\n"
     ]
    }
   ],
   "source": [
    "built_fraction = landcover_buildings_wrangling.calculate_built_fraction(buildings, grid)"
   ]
  },
  {
   "cell_type": "markdown",
   "id": "572c7858-01af-4b39-8c1e-2919031389d1",
   "metadata": {},
   "source": [
    "**Rasterize**"
   ]
  },
  {
   "cell_type": "code",
   "execution_count": 19,
   "id": "3a9cd432-9437-4c72-a2de-5fa52222e893",
   "metadata": {
    "tags": []
   },
   "outputs": [],
   "source": [
    "landcover_raster = landcover_buildings_wrangling.rasterize_landcover(dominant_landcover, base_raster)"
   ]
  },
  {
   "cell_type": "code",
   "execution_count": 20,
   "id": "7310080d-a527-4e14-a16e-e7ef9072f784",
   "metadata": {},
   "outputs": [],
   "source": [
    "mean_building_height_raster = landcover_buildings_wrangling.rasterize_mean_building_height(mean_building_height, base_raster)"
   ]
  },
  {
   "cell_type": "code",
   "execution_count": 21,
   "id": "9406ba1c-97d9-4467-836f-be920ee4fe97",
   "metadata": {
    "tags": []
   },
   "outputs": [],
   "source": [
    "built_fraction_raster = landcover_buildings_wrangling.rasterize_built_fraction(built_fraction, base_raster)"
   ]
  },
  {
   "cell_type": "code",
   "execution_count": null,
   "id": "1574f167-74a8-4df3-9195-b7859b7782ee",
   "metadata": {},
   "outputs": [],
   "source": []
  },
  {
   "cell_type": "markdown",
   "id": "30dc59c1-784f-4dfa-9be5-6f15426670a7",
   "metadata": {},
   "source": [
    "**Difference**"
   ]
  },
  {
   "cell_type": "code",
   "execution_count": 43,
   "id": "ba9f33ac-ccfd-4f1c-b7ca-cf1d4630ba81",
   "metadata": {},
   "outputs": [
    {
     "name": "stdout",
     "output_type": "stream",
     "text": [
      "Absolute change raster saved to: /Users/moritzmuhlbauer/Master Thesis/test/bf_difference.tif\n"
     ]
    }
   ],
   "source": [
    "# File paths\n",
    "bf_2014 = '/Users/moritzmuhlbauer/Master Thesis/output/2014/rasterized/built_fraction.tif'\n",
    "bf_2022 = '/Users/moritzmuhlbauer/Master Thesis/output/2022/rasterized/built_fraction.tif'\n",
    "output_fp = TEST_DIRECTORY / \"bf_difference.tif\"\n",
    "\n",
    "# Open both rasters\n",
    "with rasterio.open(bf_2014) as src14, rasterio.open(bf_2022) as src22:\n",
    "    data_2014 = src14.read(1)\n",
    "    data_2022 = src22.read(1)\n",
    "\n",
    "    if data_2014.shape != data_2022.shape:\n",
    "        raise ValueError(\"Input rasters must have the same shape and alignment.\")\n",
    "\n",
    "    # Compute absolute change as float\n",
    "    change = (data_2022 - data_2014).astype(np.float32)\n",
    "\n",
    "    # Mask where both rasters had 0% built-up\n",
    "    change[(data_2014 == 0) & (data_2022 == 0)] = np.nan\n",
    "\n",
    "    # Update profile for float output and nodata\n",
    "    profile = src22.profile\n",
    "    profile.update(dtype=rasterio.float32, nodata=np.nan)\n",
    "\n",
    "    with rasterio.open(output_fp, 'w', **profile) as dst:\n",
    "        dst.write(change, 1)\n",
    "\n",
    "print(f\"Absolute change raster saved to: {output_fp}\")"
   ]
  },
  {
   "cell_type": "code",
   "execution_count": 9,
   "id": "ece58a72-5c82-4d29-8818-990ade6a6561",
   "metadata": {},
   "outputs": [],
   "source": [
    "def calculate_difference(data_2014, data_2022, output_fp):\n",
    "    \n",
    "    # opening both rasters\n",
    "    with rasterio.open(data_2014) as src14, rasterio.open(data_2022) as src22:\n",
    "        _2014 = src14.read(1)\n",
    "        _2022 = src22.read(1)\n",
    "\n",
    "        # computing absolute change as float\n",
    "        change = (_2022 - _2014).astype(np.float32)\n",
    "    \n",
    "        # masking where both rasters had 0 \n",
    "        change[(_2014 == 0) & (_2022 == 0)] = np.nan\n",
    "    \n",
    "        profile = src22.profile\n",
    "        profile.update(dtype=rasterio.float32, nodata=np.nan)\n",
    "\n",
    "    with rasterio.open(output_fp, 'w', **profile) as dst:\n",
    "        dst.write(change, 1)"
   ]
  },
  {
   "cell_type": "code",
   "execution_count": 10,
   "id": "0f072da5-d74e-4072-bd76-8befa6708719",
   "metadata": {},
   "outputs": [],
   "source": [
    "# File paths\n",
    "bh_2014 = '/Users/moritzmuhlbauer/Master Thesis/output/2014/rasterized/mean_building_height.tif'\n",
    "bh_2022 = '/Users/moritzmuhlbauer/Master Thesis/output/2022/rasterized/mean_building_height.tif'\n",
    "output_fp = TEST_DIRECTORY / \"bh_difference.tif\"\n",
    "\n",
    "# calling function to calcualte difference in building height\n",
    "calculate_difference(bh_2014, bh_2022, output_fp)"
   ]
  },
  {
   "cell_type": "code",
   "execution_count": null,
   "id": "0b2fe2f7-5bf0-4e0b-a5b4-9792038fb099",
   "metadata": {},
   "outputs": [],
   "source": []
  },
  {
   "cell_type": "markdown",
   "id": "d4a0b458-653b-427c-a246-a38c9d215273",
   "metadata": {
    "jp-MarkdownHeadingCollapsed": true
   },
   "source": [
    "## Testing"
   ]
  },
  {
   "cell_type": "code",
   "execution_count": 22,
   "id": "57ce1d39-fbcc-4e1d-84c4-de69e5008c42",
   "metadata": {},
   "outputs": [
    {
     "data": {
      "text/plain": [
       "49813"
      ]
     },
     "execution_count": 22,
     "metadata": {},
     "output_type": "execute_result"
    }
   ],
   "source": [
    "buildings.index.max()"
   ]
  },
  {
   "cell_type": "code",
   "execution_count": 23,
   "id": "48c26773-bd32-4680-9754-ff6b80e1e07c",
   "metadata": {},
   "outputs": [
    {
     "data": {
      "text/plain": [
       "0"
      ]
     },
     "execution_count": 23,
     "metadata": {},
     "output_type": "execute_result"
    }
   ],
   "source": [
    "buildings.geometry.isna().sum()"
   ]
  },
  {
   "cell_type": "code",
   "execution_count": 24,
   "id": "8a1423e9-492a-421f-aadf-a99d607b11a6",
   "metadata": {},
   "outputs": [],
   "source": [
    "one_story = buildings.loc[buildings['stories'] == 1]"
   ]
  },
  {
   "cell_type": "code",
   "execution_count": 25,
   "id": "b0593621-8ca5-4dbf-80c2-c30102951280",
   "metadata": {},
   "outputs": [
    {
     "name": "stdout",
     "output_type": "stream",
     "text": [
      "<class 'geopandas.geodataframe.GeoDataFrame'>\n",
      "Index: 31601 entries, 19500 to 42962\n",
      "Data columns (total 10 columns):\n",
      " #   Column            Non-Null Count  Dtype   \n",
      "---  ------            --------------  -----   \n",
      " 0   type_id           31601 non-null  int64   \n",
      " 1   stories           31601 non-null  float64 \n",
      " 2   undg_stories      1981 non-null   float64 \n",
      " 3   material          31598 non-null  object  \n",
      " 4   height            31601 non-null  int64   \n",
      " 5   abs_height        31570 non-null  float64 \n",
      " 6   geometry          31601 non-null  geometry\n",
      " 7   area              31601 non-null  float64 \n",
      " 8   height_threshold  31595 non-null  float64 \n",
      " 9   type              31601 non-null  object  \n",
      "dtypes: float64(5), geometry(1), int64(2), object(2)\n",
      "memory usage: 2.7+ MB\n"
     ]
    }
   ],
   "source": [
    "one_story.info()"
   ]
  },
  {
   "cell_type": "code",
   "execution_count": 26,
   "id": "6863f372-c934-44c5-be93-c8244b86e105",
   "metadata": {},
   "outputs": [],
   "source": [
    "smaller_5m_one_story = one_story.loc[one_story.height <= one_story.height.mean()]"
   ]
  },
  {
   "cell_type": "code",
   "execution_count": null,
   "id": "36e73394-a6b9-4222-9985-c57b12e4d3ae",
   "metadata": {},
   "outputs": [],
   "source": []
  },
  {
   "cell_type": "code",
   "execution_count": 27,
   "id": "c0575b34-d919-4667-a4b5-b583b3fa057a",
   "metadata": {},
   "outputs": [
    {
     "name": "stdout",
     "output_type": "stream",
     "text": [
      "<class 'geopandas.geodataframe.GeoDataFrame'>\n",
      "Index: 18758 entries, 49035 to 42952\n",
      "Data columns (total 10 columns):\n",
      " #   Column            Non-Null Count  Dtype   \n",
      "---  ------            --------------  -----   \n",
      " 0   type_id           18758 non-null  int64   \n",
      " 1   stories           18758 non-null  float64 \n",
      " 2   undg_stories      1336 non-null   float64 \n",
      " 3   material          18757 non-null  object  \n",
      " 4   height            18758 non-null  int64   \n",
      " 5   abs_height        18731 non-null  float64 \n",
      " 6   geometry          18758 non-null  geometry\n",
      " 7   area              18758 non-null  float64 \n",
      " 8   height_threshold  18758 non-null  float64 \n",
      " 9   type              18758 non-null  object  \n",
      "dtypes: float64(5), geometry(1), int64(2), object(2)\n",
      "memory usage: 1.6+ MB\n"
     ]
    }
   ],
   "source": [
    "smaller_5m_one_story.info()"
   ]
  },
  {
   "cell_type": "code",
   "execution_count": 28,
   "id": "6996a515-48f8-4c51-9cef-ec987f2b92c7",
   "metadata": {},
   "outputs": [
    {
     "name": "stdout",
     "output_type": "stream",
     "text": [
      "<class 'geopandas.geodataframe.GeoDataFrame'>\n",
      "Index: 49180 entries, 19500 to 42962\n",
      "Data columns (total 10 columns):\n",
      " #   Column            Non-Null Count  Dtype   \n",
      "---  ------            --------------  -----   \n",
      " 0   type_id           49180 non-null  int64   \n",
      " 1   stories           49168 non-null  float64 \n",
      " 2   undg_stories      4785 non-null   float64 \n",
      " 3   material          49174 non-null  object  \n",
      " 4   height            49180 non-null  int64   \n",
      " 5   abs_height        49134 non-null  float64 \n",
      " 6   geometry          49180 non-null  geometry\n",
      " 7   area              49180 non-null  float64 \n",
      " 8   height_threshold  49145 non-null  float64 \n",
      " 9   type              49180 non-null  object  \n",
      "dtypes: float64(5), geometry(1), int64(2), object(2)\n",
      "memory usage: 4.1+ MB\n"
     ]
    }
   ],
   "source": [
    "buildings.info()"
   ]
  },
  {
   "cell_type": "code",
   "execution_count": 29,
   "id": "7b0eb615-194e-4895-abac-d33338a35c31",
   "metadata": {},
   "outputs": [
    {
     "data": {
      "text/plain": [
       "2"
      ]
     },
     "execution_count": 29,
     "metadata": {},
     "output_type": "execute_result"
    }
   ],
   "source": [
    "buildings = buildings.loc[buildings['height'] >= 2]\n",
    "buildings.height.min()"
   ]
  },
  {
   "cell_type": "code",
   "execution_count": 30,
   "id": "1e2f8606-11b7-4556-ad0d-e28181b253ae",
   "metadata": {},
   "outputs": [
    {
     "name": "stdout",
     "output_type": "stream",
     "text": [
      "<class 'geopandas.geodataframe.GeoDataFrame'>\n",
      "Index: 49180 entries, 19500 to 42962\n",
      "Data columns (total 10 columns):\n",
      " #   Column            Non-Null Count  Dtype   \n",
      "---  ------            --------------  -----   \n",
      " 0   type_id           49180 non-null  int64   \n",
      " 1   stories           49168 non-null  float64 \n",
      " 2   undg_stories      4785 non-null   float64 \n",
      " 3   material          49174 non-null  object  \n",
      " 4   height            49180 non-null  int64   \n",
      " 5   abs_height        49134 non-null  float64 \n",
      " 6   geometry          49180 non-null  geometry\n",
      " 7   area              49180 non-null  float64 \n",
      " 8   height_threshold  49145 non-null  float64 \n",
      " 9   type              49180 non-null  object  \n",
      "dtypes: float64(5), geometry(1), int64(2), object(2)\n",
      "memory usage: 4.1+ MB\n"
     ]
    }
   ],
   "source": [
    "buildings.info()"
   ]
  },
  {
   "cell_type": "code",
   "execution_count": 31,
   "id": "da1e3a7f-95c7-4ea7-8218-f8ba2b83427a",
   "metadata": {},
   "outputs": [
    {
     "data": {
      "text/plain": [
       "<Axes: >"
      ]
     },
     "execution_count": 31,
     "metadata": {},
     "output_type": "execute_result"
    },
    {
     "data": {
      "image/png": "[encoded data removed]",
      "text/plain": [
       "<Figure size 640x480 with 1 Axes>"
      ]
     },
     "metadata": {},
     "output_type": "display_data"
    }
   ],
   "source": [
    "buildings.plot()"
   ]
  },
  {
   "cell_type": "code",
   "execution_count": 32,
   "id": "6fe24b7a-0f1e-4d6f-a4c4-40345d96219e",
   "metadata": {},
   "outputs": [
    {
     "data": {
      "text/plain": [
       "12"
      ]
     },
     "execution_count": 32,
     "metadata": {},
     "output_type": "execute_result"
    }
   ],
   "source": [
    "buildings.stories.isna().sum()"
   ]
  },
  {
   "cell_type": "code",
   "execution_count": 33,
   "id": "9f95dfad-1618-4bbc-99ad-71bdbf495f58",
   "metadata": {},
   "outputs": [
    {
     "data": {
      "text/plain": [
       "0"
      ]
     },
     "execution_count": 33,
     "metadata": {},
     "output_type": "execute_result"
    }
   ],
   "source": [
    "buildings.height.isna().sum()"
   ]
  },
  {
   "cell_type": "markdown",
   "id": "da5fc456-aca5-4bc6-b6e9-592747ba5c48",
   "metadata": {},
   "source": [
    "**Estimating Building Height**"
   ]
  },
  {
   "cell_type": "code",
   "execution_count": 34,
   "id": "ee9885aa-8ac2-4d1a-8dc4-e2fe636f59a2",
   "metadata": {},
   "outputs": [
    {
     "data": {
      "text/plain": [
       "<Axes: >"
      ]
     },
     "execution_count": 34,
     "metadata": {},
     "output_type": "execute_result"
    },
    {
     "data": {
      "image/png": "[encoded data removed]",
      "text/plain": [
       "<Figure size 640x480 with 1 Axes>"
      ]
     },
     "metadata": {},
     "output_type": "display_data"
    }
   ],
   "source": [
    "dominant_landcover.plot(column='raster_code')"
   ]
  },
  {
   "cell_type": "markdown",
   "id": "fb608fa4-d347-4296-a158-893326cb2410",
   "metadata": {},
   "source": [
    "1. mask out where stories and and height are 0\n",
    "2. mask out where stories and height are NaNs\n",
    "3. mask out where height is Na and stories 0?\n",
    "4. estimate the building height and then delete rows: if height is Na => estimate height "
   ]
  }
 ],
 "metadata": {
  "kernelspec": {
   "display_name": "Python 3 (ipykernel)",
   "language": "python",
   "name": "python3"
  },
  "language_info": {
   "codemirror_mode": {
    "name": "ipython",
    "version": 3
   },
   "file_extension": ".py",
   "mimetype": "text/x-python",
   "name": "python",
   "nbconvert_exporter": "python",
   "pygments_lexer": "ipython3",
   "version": "3.11.11"
  }
 },
 "nbformat": 4,
 "nbformat_minor": 5
}
